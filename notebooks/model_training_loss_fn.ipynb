{
 "cells": [
  {
   "cell_type": "code",
   "execution_count": 1,
   "metadata": {},
   "outputs": [],
   "source": [
    "import pandas as pd\n",
    "import sys\n",
    "import os\n",
    "from os import listdir\n",
    "os.chdir(\"c:/Users/Robert/Documents/Projekte/dev/sport_betting/\")\n",
    "import config as CONFIG\n",
    "pd.set_option('display.max_columns', 500)"
   ]
  },
  {
   "cell_type": "code",
   "execution_count": 2,
   "metadata": {},
   "outputs": [],
   "source": [
    "from src.data.provide_data import get_model_data\n",
    "from src.models.evaluate import custom_classification_report, custom_lazy_report\n",
    "\n"
   ]
  },
  {
   "cell_type": "code",
   "execution_count": 3,
   "metadata": {},
   "outputs": [
    {
     "name": "stdout",
     "output_type": "stream",
     "text": [
      "Train 5246\n",
      "Valid 1952\n",
      "Test 1952\n"
     ]
    }
   ],
   "source": [
    "X_train, y_train = get_model_data(filename = \"Train\")\n",
    "X_valid, y_valid = get_model_data(filename = \"Valid\")\n",
    "X_test, y_test = get_model_data(filename = \"Test\")\n",
    "\n",
    "cat = [X_train.columns.get_loc(i) for i in [\"Team\",\"Div\",\"Opponent\"]]"
   ]
  },
  {
   "cell_type": "code",
   "execution_count": 4,
   "metadata": {},
   "outputs": [],
   "source": [
    "features = X_train.columns"
   ]
  },
  {
   "cell_type": "code",
   "execution_count": 5,
   "metadata": {},
   "outputs": [],
   "source": [
    "from sklearn.preprocessing import StandardScaler\n",
    "\n",
    "# Initialize scaler object\n",
    "scaler = StandardScaler()\n",
    "\n",
    "# Fit scaler on training data\n",
    "scaler.fit(X_train)\n",
    "\n",
    "# Scale training and test data\n",
    "X_train = scaler.transform(X_train)\n",
    "\n",
    "X_test = scaler.transform(X_test)\n",
    "X_valid = scaler.transform(X_valid)"
   ]
  },
  {
   "cell_type": "code",
   "execution_count": 6,
   "metadata": {},
   "outputs": [],
   "source": [
    "from sklearn.naive_bayes import BernoulliNB\n",
    "bnb = BernoulliNB(alpha=10,binarize=0.5)\n",
    "bnb.fit(X_train,y=y_train)\n",
    "y_pred = bnb.predict(X_valid)"
   ]
  },
  {
   "cell_type": "code",
   "execution_count": 7,
   "metadata": {},
   "outputs": [],
   "source": [
    "import pandas as pd\n",
    "\n",
    "def get_column_indices(df, column_names):\n",
    "    \"\"\"\n",
    "    Returns the indices of the given column names within the dataframe.\n",
    "    \n",
    "    Args:\n",
    "    - df (pd.DataFrame): the dataframe\n",
    "    - column_names (list of str): the names of the columns to get indices for\n",
    "    \n",
    "    Returns:\n",
    "    - indices (list of int): the indices of the columns within the dataframe\n",
    "    \"\"\"\n",
    "    indices = []\n",
    "    for col_name in column_names:\n",
    "        try:\n",
    "            indices.append(df.columns.get_loc(col_name))\n",
    "        except KeyError:\n",
    "            print(f\"Column name '{col_name}' not found in dataframe.\")\n",
    "    return indices\n"
   ]
  },
  {
   "cell_type": "code",
   "execution_count": 8,
   "metadata": {},
   "outputs": [],
   "source": [
    "ind  = get_column_indices(df = pd.DataFrame(X_valid,columns=features), column_names = [\"B365_Team\",\"B365_Draw\",\"B365_Opponent\"])"
   ]
  },
  {
   "attachments": {},
   "cell_type": "markdown",
   "metadata": {},
   "source": [
    "# Transformer"
   ]
  },
  {
   "attachments": {},
   "cell_type": "markdown",
   "metadata": {},
   "source": [
    "## Pretrainer"
   ]
  },
  {
   "cell_type": "code",
   "execution_count": null,
   "metadata": {},
   "outputs": [],
   "source": [
    "\n",
    "import torch\n",
    "\n",
    "from pytorch_tabnet.pretraining import TabNetPretrainer\n",
    "\n",
    "# Define pretrainer model architecture\n",
    "pretrainer = TabNetPretrainer(\n",
    "optimizer_fn=torch.optim.Adam,\n",
    "optimizer_params=dict(lr=2e-2),\n",
    "mask_type=\"entmax\"\n",
    ")\n",
    "\n",
    "# Train pretrainer model on training data\n",
    "pretrainer.fit(\n",
    "    X_train=X_train,\n",
    "    eval_set=[X_valid],\n",
    "    max_epochs=10,\n",
    "    patience=30,\n",
    "    pretraining_ratio=0.8,\n",
    "    batch_size= 64\n",
    ")\n"
   ]
  },
  {
   "cell_type": "code",
   "execution_count": 12,
   "metadata": {},
   "outputs": [
    {
     "name": "stderr",
     "output_type": "stream",
     "text": [
      "C:\\Users\\Robert\\AppData\\Roaming\\Python\\Python37\\site-packages\\pytorch_tabnet\\abstract_model.py:75: UserWarning: Device used : cpu\n",
      "  warnings.warn(f\"Device used : {self.device}\")\n"
     ]
    },
    {
     "name": "stdout",
     "output_type": "stream",
     "text": [
      "epoch 0  | loss: 0.56159 | train_balanced_accuracy: 0.49941 | train_auc: 0.55187 | valid_balanced_accuracy: 0.50787 | valid_auc: 0.54948 |  0:00:01s\n",
      "epoch 1  | loss: 0.54299 | train_balanced_accuracy: 0.42442 | train_auc: 0.40403 | valid_balanced_accuracy: 0.4657  | valid_auc: 0.46296 |  0:00:03s\n",
      "epoch 2  | loss: 0.53733 | train_balanced_accuracy: 0.51963 | train_auc: 0.48921 | valid_balanced_accuracy: 0.51512 | valid_auc: 0.49844 |  0:00:05s\n",
      "epoch 3  | loss: 0.57318 | train_balanced_accuracy: 0.49799 | train_auc: 0.48971 | valid_balanced_accuracy: 0.49572 | valid_auc: 0.45072 |  0:00:08s\n",
      "epoch 4  | loss: 0.61059 | train_balanced_accuracy: 0.50359 | train_auc: 0.49126 | valid_balanced_accuracy: 0.48204 | valid_auc: 0.50162 |  0:00:10s\n",
      "epoch 5  | loss: 0.63345 | train_balanced_accuracy: 0.50429 | train_auc: 0.47034 | valid_balanced_accuracy: 0.48706 | valid_auc: 0.47922 |  0:00:12s\n",
      "epoch 6  | loss: 0.60206 | train_balanced_accuracy: 0.50174 | train_auc: 0.48355 | valid_balanced_accuracy: 0.48984 | valid_auc: 0.48152 |  0:00:14s\n",
      "epoch 7  | loss: 0.64281 | train_balanced_accuracy: 0.4997  | train_auc: 0.40372 | valid_balanced_accuracy: 0.49738 | valid_auc: 0.4402  |  0:00:16s\n",
      "epoch 8  | loss: 0.61185 | train_balanced_accuracy: 0.50057 | train_auc: 0.41564 | valid_balanced_accuracy: 0.48443 | valid_auc: 0.4567  |  0:00:19s\n",
      "epoch 9  | loss: 0.60129 | train_balanced_accuracy: 0.50097 | train_auc: 0.42639 | valid_balanced_accuracy: 0.4958  | valid_auc: 0.46414 |  0:00:21s\n",
      "epoch 10 | loss: 0.60979 | train_balanced_accuracy: 0.50042 | train_auc: 0.4284  | valid_balanced_accuracy: 0.48957 | valid_auc: 0.45221 |  0:00:23s\n",
      "epoch 11 | loss: 0.62952 | train_balanced_accuracy: 0.49711 | train_auc: 0.39054 | valid_balanced_accuracy: 0.49956 | valid_auc: 0.42816 |  0:00:25s\n",
      "epoch 12 | loss: 0.65423 | train_balanced_accuracy: 0.48263 | train_auc: 0.34895 | valid_balanced_accuracy: 0.46421 | valid_auc: 0.37431 |  0:00:27s\n",
      "epoch 13 | loss: 0.64506 | train_balanced_accuracy: 0.44684 | train_auc: 0.39049 | valid_balanced_accuracy: 0.4802  | valid_auc: 0.42885 |  0:00:30s\n",
      "epoch 14 | loss: 0.60672 | train_balanced_accuracy: 0.49351 | train_auc: 0.37156 | valid_balanced_accuracy: 0.49228 | valid_auc: 0.4236  |  0:00:32s\n",
      "epoch 15 | loss: 0.63878 | train_balanced_accuracy: 0.42126 | train_auc: 0.3893  | valid_balanced_accuracy: 0.46906 | valid_auc: 0.44691 |  0:00:34s\n",
      "epoch 16 | loss: 0.60877 | train_balanced_accuracy: 0.4948  | train_auc: 0.38852 | valid_balanced_accuracy: 0.47639 | valid_auc: 0.40788 |  0:00:36s\n",
      "epoch 17 | loss: 0.61225 | train_balanced_accuracy: 0.48243 | train_auc: 0.37113 | valid_balanced_accuracy: 0.47461 | valid_auc: 0.38366 |  0:00:38s\n",
      "epoch 18 | loss: 0.6882  | train_balanced_accuracy: 0.47846 | train_auc: 0.43683 | valid_balanced_accuracy: 0.47612 | valid_auc: 0.41525 |  0:00:41s\n",
      "epoch 19 | loss: 0.88455 | train_balanced_accuracy: 0.48903 | train_auc: 0.40106 | valid_balanced_accuracy: 0.48375 | valid_auc: 0.42611 |  0:00:43s\n",
      "epoch 20 | loss: 0.67796 | train_balanced_accuracy: 0.49162 | train_auc: 0.38724 | valid_balanced_accuracy: 0.49131 | valid_auc: 0.42818 |  0:00:45s\n",
      "epoch 21 | loss: 0.6625  | train_balanced_accuracy: 0.49462 | train_auc: 0.37046 | valid_balanced_accuracy: 0.49547 | valid_auc: 0.41731 |  0:00:47s\n",
      "epoch 22 | loss: 0.69832 | train_balanced_accuracy: 0.49843 | train_auc: 0.38095 | valid_balanced_accuracy: 0.5     | valid_auc: 0.44091 |  0:00:49s\n",
      "epoch 23 | loss: 0.62187 | train_balanced_accuracy: 0.49858 | train_auc: 0.39516 | valid_balanced_accuracy: 0.5     | valid_auc: 0.46484 |  0:00:51s\n",
      "epoch 24 | loss: 0.65657 | train_balanced_accuracy: 0.4966  | train_auc: 0.41241 | valid_balanced_accuracy: 0.50068 | valid_auc: 0.48884 |  0:00:53s\n",
      "epoch 25 | loss: 0.65599 | train_balanced_accuracy: 0.5     | train_auc: 0.4139  | valid_balanced_accuracy: 0.49959 | valid_auc: 0.49387 |  0:00:56s\n",
      "epoch 26 | loss: 0.78358 | train_balanced_accuracy: 0.47788 | train_auc: 0.40972 | valid_balanced_accuracy: 0.49287 | valid_auc: 0.49255 |  0:00:58s\n",
      "epoch 27 | loss: 0.69364 | train_balanced_accuracy: 0.48492 | train_auc: 0.42968 | valid_balanced_accuracy: 0.4881  | valid_auc: 0.4814  |  0:01:00s\n",
      "epoch 28 | loss: 0.71144 | train_balanced_accuracy: 0.49132 | train_auc: 0.43044 | valid_balanced_accuracy: 0.49502 | valid_auc: 0.39909 |  0:01:02s\n",
      "epoch 29 | loss: 0.69541 | train_balanced_accuracy: 0.48215 | train_auc: 0.39297 | valid_balanced_accuracy: 0.47898 | valid_auc: 0.42688 |  0:01:04s\n",
      "epoch 30 | loss: 0.67397 | train_balanced_accuracy: 0.49828 | train_auc: 0.43938 | valid_balanced_accuracy: 0.50017 | valid_auc: 0.52104 |  0:01:07s\n",
      "epoch 31 | loss: 0.78163 | train_balanced_accuracy: 0.42991 | train_auc: 0.3908  | valid_balanced_accuracy: 0.42998 | valid_auc: 0.39002 |  0:01:09s\n",
      "epoch 32 | loss: 0.84879 | train_balanced_accuracy: 0.51934 | train_auc: 0.53057 | valid_balanced_accuracy: 0.49734 | valid_auc: 0.46856 |  0:01:11s\n",
      "epoch 33 | loss: 1.00002 | train_balanced_accuracy: 0.51401 | train_auc: 0.57228 | valid_balanced_accuracy: 0.51102 | valid_auc: 0.54138 |  0:01:13s\n",
      "epoch 34 | loss: 1.00002 | train_balanced_accuracy: 0.5208  | train_auc: 0.61141 | valid_balanced_accuracy: 0.51167 | valid_auc: 0.60096 |  0:01:15s\n",
      "epoch 35 | loss: 1.00001 | train_balanced_accuracy: 0.48125 | train_auc: 0.5462  | valid_balanced_accuracy: 0.47944 | valid_auc: 0.55159 |  0:01:17s\n",
      "epoch 36 | loss: 1.00002 | train_balanced_accuracy: 0.51414 | train_auc: 0.60369 | valid_balanced_accuracy: 0.50046 | valid_auc: 0.57734 |  0:01:19s\n",
      "epoch 37 | loss: 1.00001 | train_balanced_accuracy: 0.57656 | train_auc: 0.62301 | valid_balanced_accuracy: 0.58758 | valid_auc: 0.59972 |  0:01:21s\n",
      "epoch 38 | loss: 1.00001 | train_balanced_accuracy: 0.59774 | train_auc: 0.63258 | valid_balanced_accuracy: 0.60424 | valid_auc: 0.60575 |  0:01:23s\n",
      "epoch 39 | loss: 1.00001 | train_balanced_accuracy: 0.61144 | train_auc: 0.64156 | valid_balanced_accuracy: 0.60535 | valid_auc: 0.62125 |  0:01:25s\n",
      "epoch 40 | loss: 1.00001 | train_balanced_accuracy: 0.59464 | train_auc: 0.63282 | valid_balanced_accuracy: 0.60181 | valid_auc: 0.63151 |  0:01:28s\n",
      "epoch 41 | loss: 1.00001 | train_balanced_accuracy: 0.60446 | train_auc: 0.63339 | valid_balanced_accuracy: 0.59966 | valid_auc: 0.60921 |  0:01:30s\n",
      "epoch 42 | loss: 1.00001 | train_balanced_accuracy: 0.56295 | train_auc: 0.58575 | valid_balanced_accuracy: 0.56031 | valid_auc: 0.54165 |  0:01:32s\n",
      "epoch 43 | loss: 1.00001 | train_balanced_accuracy: 0.48928 | train_auc: 0.5851  | valid_balanced_accuracy: 0.48648 | valid_auc: 0.5408  |  0:01:34s\n",
      "epoch 44 | loss: 1.00001 | train_balanced_accuracy: 0.48329 | train_auc: 0.59478 | valid_balanced_accuracy: 0.48098 | valid_auc: 0.57546 |  0:01:36s\n",
      "epoch 45 | loss: 0.68108 | train_balanced_accuracy: 0.62044 | train_auc: 0.6444  | valid_balanced_accuracy: 0.60719 | valid_auc: 0.61415 |  0:01:38s\n",
      "epoch 46 | loss: 0.37429 | train_balanced_accuracy: 0.62244 | train_auc: 0.64361 | valid_balanced_accuracy: 0.61171 | valid_auc: 0.62007 |  0:01:40s\n",
      "epoch 47 | loss: 0.39621 | train_balanced_accuracy: 0.62137 | train_auc: 0.64521 | valid_balanced_accuracy: 0.6168  | valid_auc: 0.62558 |  0:01:42s\n",
      "epoch 48 | loss: 0.51712 | train_balanced_accuracy: 0.62631 | train_auc: 0.67003 | valid_balanced_accuracy: 0.6247  | valid_auc: 0.67153 |  0:01:45s\n",
      "epoch 49 | loss: 0.44659 | train_balanced_accuracy: 0.6466  | train_auc: 0.69473 | valid_balanced_accuracy: 0.64341 | valid_auc: 0.68764 |  0:01:47s\n",
      "epoch 50 | loss: 0.45294 | train_balanced_accuracy: 0.64455 | train_auc: 0.70301 | valid_balanced_accuracy: 0.63838 | valid_auc: 0.69465 |  0:01:49s\n",
      "epoch 51 | loss: 0.47637 | train_balanced_accuracy: 0.64332 | train_auc: 0.70409 | valid_balanced_accuracy: 0.6413  | valid_auc: 0.69772 |  0:01:51s\n",
      "epoch 52 | loss: 0.49242 | train_balanced_accuracy: 0.64444 | train_auc: 0.70291 | valid_balanced_accuracy: 0.64071 | valid_auc: 0.695   |  0:01:53s\n",
      "epoch 53 | loss: 0.47332 | train_balanced_accuracy: 0.65219 | train_auc: 0.69899 | valid_balanced_accuracy: 0.63758 | valid_auc: 0.68747 |  0:01:55s\n",
      "epoch 54 | loss: 0.4556  | train_balanced_accuracy: 0.64964 | train_auc: 0.69617 | valid_balanced_accuracy: 0.63871 | valid_auc: 0.69424 |  0:01:57s\n",
      "epoch 55 | loss: 0.45039 | train_balanced_accuracy: 0.65007 | train_auc: 0.70266 | valid_balanced_accuracy: 0.63616 | valid_auc: 0.70078 |  0:01:59s\n",
      "epoch 56 | loss: 0.4672  | train_balanced_accuracy: 0.64909 | train_auc: 0.70397 | valid_balanced_accuracy: 0.64027 | valid_auc: 0.70242 |  0:02:02s\n",
      "epoch 57 | loss: 0.45662 | train_balanced_accuracy: 0.63197 | train_auc: 0.70849 | valid_balanced_accuracy: 0.63323 | valid_auc: 0.70509 |  0:02:04s\n",
      "epoch 58 | loss: 0.58388 | train_balanced_accuracy: 0.59385 | train_auc: 0.65853 | valid_balanced_accuracy: 0.604   | valid_auc: 0.66765 |  0:02:06s\n",
      "epoch 59 | loss: 0.5033  | train_balanced_accuracy: 0.56902 | train_auc: 0.68688 | valid_balanced_accuracy: 0.5741  | valid_auc: 0.6986  |  0:02:08s\n",
      "epoch 60 | loss: 0.53202 | train_balanced_accuracy: 0.54714 | train_auc: 0.64559 | valid_balanced_accuracy: 0.55128 | valid_auc: 0.657   |  0:02:10s\n",
      "epoch 61 | loss: 0.57411 | train_balanced_accuracy: 0.54223 | train_auc: 0.61838 | valid_balanced_accuracy: 0.5534  | valid_auc: 0.62953 |  0:02:12s\n",
      "epoch 62 | loss: 0.61956 | train_balanced_accuracy: 0.50961 | train_auc: 0.55127 | valid_balanced_accuracy: 0.5289  | valid_auc: 0.57592 |  0:02:14s\n",
      "epoch 63 | loss: 0.62162 | train_balanced_accuracy: 0.56347 | train_auc: 0.60058 | valid_balanced_accuracy: 0.57871 | valid_auc: 0.61332 |  0:02:17s\n",
      "epoch 64 | loss: 0.55062 | train_balanced_accuracy: 0.56177 | train_auc: 0.65278 | valid_balanced_accuracy: 0.56856 | valid_auc: 0.65312 |  0:02:19s\n",
      "epoch 65 | loss: 0.54237 | train_balanced_accuracy: 0.54816 | train_auc: 0.65325 | valid_balanced_accuracy: 0.54296 | valid_auc: 0.65418 |  0:02:21s\n",
      "epoch 66 | loss: 0.54555 | train_balanced_accuracy: 0.56263 | train_auc: 0.65928 | valid_balanced_accuracy: 0.55948 | valid_auc: 0.66803 |  0:02:23s\n",
      "epoch 67 | loss: 0.52842 | train_balanced_accuracy: 0.57096 | train_auc: 0.66329 | valid_balanced_accuracy: 0.57613 | valid_auc: 0.67407 |  0:02:26s\n",
      "epoch 68 | loss: 0.48728 | train_balanced_accuracy: 0.58618 | train_auc: 0.65813 | valid_balanced_accuracy: 0.59998 | valid_auc: 0.67233 |  0:02:28s\n",
      "epoch 69 | loss: 0.5063  | train_balanced_accuracy: 0.63298 | train_auc: 0.68129 | valid_balanced_accuracy: 0.63285 | valid_auc: 0.68392 |  0:02:30s\n",
      "epoch 70 | loss: 0.37843 | train_balanced_accuracy: 0.60041 | train_auc: 0.67264 | valid_balanced_accuracy: 0.60143 | valid_auc: 0.65437 |  0:02:32s\n",
      "epoch 71 | loss: 0.38908 | train_balanced_accuracy: 0.59975 | train_auc: 0.68066 | valid_balanced_accuracy: 0.61053 | valid_auc: 0.68514 |  0:02:34s\n",
      "epoch 72 | loss: 0.37481 | train_balanced_accuracy: 0.58356 | train_auc: 0.68959 | valid_balanced_accuracy: 0.60286 | valid_auc: 0.6889  |  0:02:36s\n",
      "epoch 73 | loss: 0.35638 | train_balanced_accuracy: 0.61894 | train_auc: 0.70132 | valid_balanced_accuracy: 0.63793 | valid_auc: 0.70398 |  0:02:39s\n",
      "epoch 74 | loss: 0.35032 | train_balanced_accuracy: 0.6417  | train_auc: 0.6876  | valid_balanced_accuracy: 0.63746 | valid_auc: 0.68897 |  0:02:41s\n",
      "epoch 75 | loss: 0.335   | train_balanced_accuracy: 0.63244 | train_auc: 0.6952  | valid_balanced_accuracy: 0.63585 | valid_auc: 0.69722 |  0:02:44s\n",
      "epoch 76 | loss: 0.32556 | train_balanced_accuracy: 0.61048 | train_auc: 0.6743  | valid_balanced_accuracy: 0.61426 | valid_auc: 0.68307 |  0:02:46s\n",
      "epoch 77 | loss: 0.3503  | train_balanced_accuracy: 0.58762 | train_auc: 0.65941 | valid_balanced_accuracy: 0.60495 | valid_auc: 0.67624 |  0:02:48s\n",
      "epoch 78 | loss: 0.40242 | train_balanced_accuracy: 0.58982 | train_auc: 0.66566 | valid_balanced_accuracy: 0.60598 | valid_auc: 0.68029 |  0:02:50s\n",
      "epoch 79 | loss: 0.37577 | train_balanced_accuracy: 0.56085 | train_auc: 0.65556 | valid_balanced_accuracy: 0.57958 | valid_auc: 0.67744 |  0:02:53s\n",
      "epoch 80 | loss: 0.30768 | train_balanced_accuracy: 0.55942 | train_auc: 0.66243 | valid_balanced_accuracy: 0.57232 | valid_auc: 0.68037 |  0:02:55s\n",
      "epoch 81 | loss: 0.36855 | train_balanced_accuracy: 0.56187 | train_auc: 0.67006 | valid_balanced_accuracy: 0.58093 | valid_auc: 0.68477 |  0:02:57s\n",
      "epoch 82 | loss: 0.32853 | train_balanced_accuracy: 0.59093 | train_auc: 0.67945 | valid_balanced_accuracy: 0.60895 | valid_auc: 0.69331 |  0:02:59s\n",
      "epoch 83 | loss: 0.32853 | train_balanced_accuracy: 0.57658 | train_auc: 0.66092 | valid_balanced_accuracy: 0.59181 | valid_auc: 0.68021 |  0:03:01s\n",
      "epoch 84 | loss: 0.35481 | train_balanced_accuracy: 0.5583  | train_auc: 0.68797 | valid_balanced_accuracy: 0.56414 | valid_auc: 0.69695 |  0:03:03s\n",
      "epoch 85 | loss: 0.53149 | train_balanced_accuracy: 0.56126 | train_auc: 0.6909  | valid_balanced_accuracy: 0.57288 | valid_auc: 0.69671 |  0:03:05s\n",
      "epoch 86 | loss: 0.74792 | train_balanced_accuracy: 0.54075 | train_auc: 0.68903 | valid_balanced_accuracy: 0.54841 | valid_auc: 0.6969  |  0:03:07s\n",
      "epoch 87 | loss: 0.59298 | train_balanced_accuracy: 0.62083 | train_auc: 0.66235 | valid_balanced_accuracy: 0.63661 | valid_auc: 0.67253 |  0:03:10s\n",
      "epoch 88 | loss: 0.42904 | train_balanced_accuracy: 0.51857 | train_auc: 0.6234  | valid_balanced_accuracy: 0.53535 | valid_auc: 0.64955 |  0:03:12s\n",
      "epoch 89 | loss: 0.32992 | train_balanced_accuracy: 0.5578  | train_auc: 0.67086 | valid_balanced_accuracy: 0.56869 | valid_auc: 0.66716 |  0:03:14s\n",
      "epoch 90 | loss: 0.35531 | train_balanced_accuracy: 0.60757 | train_auc: 0.61532 | valid_balanced_accuracy: 0.56538 | valid_auc: 0.58582 |  0:03:16s\n",
      "epoch 91 | loss: 0.45854 | train_balanced_accuracy: 0.60168 | train_auc: 0.61089 | valid_balanced_accuracy: 0.55259 | valid_auc: 0.58105 |  0:03:18s\n",
      "epoch 92 | loss: 0.38237 | train_balanced_accuracy: 0.62992 | train_auc: 0.63627 | valid_balanced_accuracy: 0.60468 | valid_auc: 0.65167 |  0:03:20s\n",
      "epoch 93 | loss: 0.31061 | train_balanced_accuracy: 0.63221 | train_auc: 0.65815 | valid_balanced_accuracy: 0.6075  | valid_auc: 0.66329 |  0:03:23s\n",
      "epoch 94 | loss: 0.31173 | train_balanced_accuracy: 0.63316 | train_auc: 0.65287 | valid_balanced_accuracy: 0.61732 | valid_auc: 0.66699 |  0:03:25s\n",
      "epoch 95 | loss: 0.3379  | train_balanced_accuracy: 0.62396 | train_auc: 0.65482 | valid_balanced_accuracy: 0.61655 | valid_auc: 0.66828 |  0:03:27s\n",
      "epoch 96 | loss: 0.32504 | train_balanced_accuracy: 0.62106 | train_auc: 0.65202 | valid_balanced_accuracy: 0.61231 | valid_auc: 0.66436 |  0:03:29s\n",
      "epoch 97 | loss: 0.33053 | train_balanced_accuracy: 0.62176 | train_auc: 0.64158 | valid_balanced_accuracy: 0.60546 | valid_auc: 0.64687 |  0:03:31s\n",
      "epoch 98 | loss: 0.46652 | train_balanced_accuracy: 0.4967  | train_auc: 0.52866 | valid_balanced_accuracy: 0.49573 | valid_auc: 0.56287 |  0:03:33s\n",
      "epoch 99 | loss: 0.91834 | train_balanced_accuracy: 0.49832 | train_auc: 0.60568 | valid_balanced_accuracy: 0.49862 | valid_auc: 0.63511 |  0:03:35s\n",
      "epoch 100| loss: 0.9875  | train_balanced_accuracy: 0.49954 | train_auc: 0.45355 | valid_balanced_accuracy: 0.49985 | valid_auc: 0.46138 |  0:03:38s\n",
      "epoch 101| loss: 0.9875  | train_balanced_accuracy: 0.49919 | train_auc: 0.51454 | valid_balanced_accuracy: 0.49903 | valid_auc: 0.52313 |  0:03:40s\n",
      "epoch 102| loss: 0.9875  | train_balanced_accuracy: 0.5001  | train_auc: 0.57714 | valid_balanced_accuracy: 0.49985 | valid_auc: 0.55467 |  0:03:42s\n",
      "epoch 103| loss: 1.0     | train_balanced_accuracy: 0.5001  | train_auc: 0.6573  | valid_balanced_accuracy: 0.49959 | valid_auc: 0.65213 |  0:03:44s\n",
      "epoch 104| loss: 1.0     | train_balanced_accuracy: 0.50087 | train_auc: 0.59864 | valid_balanced_accuracy: 0.49985 | valid_auc: 0.63836 |  0:03:46s\n",
      "epoch 105| loss: 0.96875 | train_balanced_accuracy: 0.50025 | train_auc: 0.63008 | valid_balanced_accuracy: 0.50068 | valid_auc: 0.6626  |  0:03:48s\n",
      "epoch 106| loss: 0.97917 | train_balanced_accuracy: 0.5001  | train_auc: 0.59941 | valid_balanced_accuracy: 0.5     | valid_auc: 0.64786 |  0:03:51s\n",
      "epoch 107| loss: 1.0     | train_balanced_accuracy: 0.50025 | train_auc: 0.56799 | valid_balanced_accuracy: 0.5     | valid_auc: 0.63209 |  0:03:53s\n",
      "\n",
      "Early stopping occurred at epoch 107 with best_epoch = 57 and best_valid_auc = 0.70509\n"
     ]
    },
    {
     "name": "stderr",
     "output_type": "stream",
     "text": [
      "C:\\Users\\Robert\\AppData\\Roaming\\Python\\Python37\\site-packages\\pytorch_tabnet\\callbacks.py:172: UserWarning: Best weights from best epoch are automatically used!\n",
      "  warnings.warn(wrn_msg)\n"
     ]
    }
   ],
   "source": [
    "from src.models.loss_function import PrecisionLoss\n",
    "\n",
    "\n",
    "import torch\n",
    "from pytorch_tabnet.tab_model import TabNetClassifier\n",
    "n_d = 8\n",
    "n_a = 8\n",
    "n_steps = 3\n",
    "gamma = 1\n",
    "lambda_sparse = 0.001\n",
    "lr = 2e-2\n",
    "batch_size = 128\n",
    "max_epochs = 1000\n",
    "# Define a custom loss function\n",
    "\n",
    "import torch\n",
    "import torch.nn as nn\n",
    "\n",
    "model = TabNetClassifier(n_d=n_d, n_a=n_a, n_steps=n_steps, gamma=gamma, lambda_sparse=lambda_sparse, optimizer_fn=torch.optim.Adam, optimizer_params=dict(lr=lr), mask_type='entmax', device_name='cuda' if torch.cuda.is_available() else 'cpu')\n",
    "\n",
    "# Define and train the model with the custom loss function\n",
    "model.fit(X_train=X_train, y_train=y_train,     eval_set=[(X_train, y_train), (X_valid, y_valid)],\n",
    "    eval_name=['train', 'valid'], eval_metric=['balanced_accuracy','auc'],batch_size=batch_size, max_epochs=max_epochs, patience=50,loss_fn=PrecisionLoss())\n"
   ]
  },
  {
   "cell_type": "code",
   "execution_count": null,
   "metadata": {},
   "outputs": [],
   "source": [
    "import torch\n",
    "from pytorch_tabnet.tab_model import TabNetClassifier\n",
    "n_d = 8\n",
    "n_a = 8\n",
    "n_steps = 3\n",
    "gamma = 1\n",
    "lambda_sparse = 0.001\n",
    "lr = 2e-2\n",
    "batch_size = 128\n",
    "max_epochs = 1000\n",
    "# Define a custom loss function\n",
    "\n",
    "import torch\n",
    "import torch.nn as nn\n",
    "\n",
    "from functools import partial\n",
    "\n",
    "class BetLoss(nn.Module):\n",
    "    def __init__(self,bets):\n",
    "        super().__init__()\n",
    "        self.bets = torch.tensor(bets)\n",
    "        \n",
    "    def forward(self, output, target):\n",
    "        if len(output.shape)>1:\n",
    "            output = output[:,1]\n",
    "\n",
    "        output = torch.clamp(output,0,1)>0.5\n",
    "        target = torch.clamp(target,0,1)>0.5\n",
    "        # loss = torch.sum(torch.abs(self.X_train_subset) * (torch.abs(target)-torch.abs(output)))/ torch.sum(torch.abs(self.X_train_subset))\n",
    "        precision = torch.sum((target == True) & (output == True))/output.size(0)\n",
    "        loss = 1 - precision\n",
    "        \n",
    "        \n",
    "        return loss\n",
    "\n",
    "\n",
    "ind = [i for i, x in enumerate(features) if x in [\"BW_Team\"]]\n",
    "\n",
    "model = TabNetClassifier(n_d=n_d, n_a=n_a, n_steps=n_steps, gamma=gamma, lambda_sparse=lambda_sparse, optimizer_fn=torch.optim.Adam, optimizer_params=dict(lr=lr), mask_type='entmax', device_name='cuda' if torch.cuda.is_available() else 'cpu')\n",
    "\n",
    "# Define and train the model with the custom loss function\n",
    "# Define and train the model with the custom loss function\n",
    "model.fit(X_train=X_train, y_train=y_train,  eval_set=[(X_train, y_train), (X_valid, y_valid)],\n",
    "    eval_name=['train', 'valid'], eval_metric=['balanced_accuracy','auc'],batch_size=batch_size, max_epochs=max_epochs, patience=50,loss_fn=BetLoss(bets = X_train[ind]))\n"
   ]
  },
  {
   "cell_type": "code",
   "execution_count": null,
   "metadata": {},
   "outputs": [],
   "source": [
    "class BetLoss(nn.Module):\n",
    "    def __init__(self):\n",
    "        super().__init__()\n",
    "        \n",
    "\n",
    "    def forward(self, output, target):\n",
    "        if len(output.shape) > 1:\n",
    "            output = output[:, 1]\n",
    "\n",
    "        correct_predictions = torch.round(torch.clamp(output * target, 0, 1))\n",
    "        incorrect_predictions = 1 - correct_predictions\n",
    "\n",
    "        bets_batch = self.bets_tensor[torch.arange(len(incorrect_predictions)), target.long()]\n",
    "        loss = torch.sum(torch.abs(bets_batch) * torch.abs(incorrect_predictions * output))\n",
    "        loss /= torch.sum(torch.abs(bets_batch))\n",
    "\n",
    "        return loss\n",
    "\n",
    "# create bets_tensor and model as before\n",
    "\n",
    "model = TabNetClassifier(n_d=n_d, n_a=n_a, n_steps=n_steps, gamma=gamma, lambda_sparse=lambda_sparse,\n",
    "                          optimizer_fn=torch.optim.Adam, optimizer_params=dict(lr=lr), mask_type='entmax',\n",
    "                          device_name='cuda' if torch.cuda.is_available() else 'cpu')\n",
    "\n",
    "# Define and train the model with the custom loss function\n",
    "model.fit(X_train=X_train, y_train=y_train, eval_set=[(X_train, y_train), (X_valid, y_valid)],\n",
    "          eval_name=['train', 'valid'], eval_metric=['balanced_accuracy', 'auc'], batch_size=batch_size,\n",
    "          max_epochs=max_epochs, patience=50, loss_fn=BetLoss())\n"
   ]
  },
  {
   "attachments": {},
   "cell_type": "markdown",
   "metadata": {},
   "source": [
    "## Modellfitting"
   ]
  },
  {
   "cell_type": "code",
   "execution_count": null,
   "metadata": {},
   "outputs": [],
   "source": [
    "import pandas as pd\n",
    "import numpy as np\n",
    "import torch\n",
    "import torch.nn as nn\n",
    "from pytorch_tabnet.tab_model import TabNetClassifier\n",
    "\n",
    "# Define hyperparameters\n",
    "n_d = 8\n",
    "n_a = 8\n",
    "n_steps = 3\n",
    "gamma = 1\n",
    "lambda_sparse = 0.001\n",
    "lr = 2e-2\n",
    "batch_size = 128\n",
    "max_epochs = 1000\n",
    "\n",
    "# Create TabNet classifier\n",
    "clf = TabNetClassifier(n_d=n_d, n_a=n_a, n_steps=n_steps, gamma=gamma, lambda_sparse=lambda_sparse, optimizer_fn=torch.optim.Adam, optimizer_params=dict(lr=lr), mask_type='entmax', device_name='cuda' if torch.cuda.is_available() else 'cpu')\n",
    "# Train TabNet classifier\n",
    "clf.fit(X_train=bets, y_train=y_train,     eval_set=[(bets, y_train), (X_valid, y_valid)],\n",
    "    eval_name=['train', 'valid'], eval_metric=['balanced_accuracy','auc'],batch_size=batch_size, max_epochs=max_epochs, patience=50,loss_fn=simple_loss)\n",
    "# clf.fit(X_train=X_train, y_train=y_train,     eval_set=[(X_train, y_train), (X_valid, y_valid)],\n",
    "#     eval_name=['train', 'valid'], eval_metric=['balanced_accuracy','auc'],batch_size=batch_size, max_epochs=max_epochs, patience=50,from_unsupervised=pretrainer,loss_fn=simple_loss)"
   ]
  },
  {
   "attachments": {},
   "cell_type": "markdown",
   "metadata": {},
   "source": [
    "## Evaluierung"
   ]
  },
  {
   "cell_type": "code",
   "execution_count": 13,
   "metadata": {},
   "outputs": [
    {
     "data": {
      "image/png": "[encoded data removed]",
      "text/plain": [
       "<Figure size 640x480 with 1 Axes>"
      ]
     },
     "metadata": {},
     "output_type": "display_data"
    },
    {
     "name": "stdout",
     "output_type": "stream",
     "text": [
      "              precision    recall  f1-score   support\n",
      "\n",
      "       False       0.80      0.48      0.60      1212\n",
      "        True       0.49      0.80      0.61       740\n",
      "\n",
      "    accuracy                           0.60      1952\n",
      "   macro avg       0.64      0.64      0.60      1952\n",
      "weighted avg       0.68      0.60      0.60      1952\n",
      "\n"
     ]
    }
   ],
   "source": [
    "from matplotlib import pyplot as plt\n",
    "clf = model\n",
    "plt.plot(clf.history['loss'], label='Validation Loss')\n",
    "plt.plot(clf.history['valid_auc'], label='AUC')\n",
    "plt.plot(clf.history['valid_balanced_accuracy'], label='Accuracy')\n",
    "\n",
    "plt.legend()\n",
    "plt.show()\n",
    "\n",
    "from sklearn.metrics import classification_report\n",
    "\n",
    "y_pred = clf.predict(X_test)\n",
    "r = classification_report(y_pred=y_pred,y_true=y_test)\n",
    "print(r)"
   ]
  },
  {
   "attachments": {},
   "cell_type": "markdown",
   "metadata": {},
   "source": [
    "## Erklärbarkeit"
   ]
  },
  {
   "cell_type": "code",
   "execution_count": 14,
   "metadata": {},
   "outputs": [
    {
     "data": {
      "text/plain": [
       "Avg_Draw                             0.393\n",
       "IW_opponent_odd_pred                 0.178\n",
       "Min_Draw                             0.118\n",
       "atHome                               0.116\n",
       "Team                                 0.108\n",
       "IW_Draw                              0.086\n",
       "BW_opponent_odd_pred_last_4_games    0.000\n",
       "B365_Team_draw_pred                  0.000\n",
       "IW_Team_last_4_games                 0.000\n",
       "Avg_Opponent_last_4_games            0.000\n",
       "Span_Draw                            0.000\n",
       "Ratio_Draw                           0.000\n",
       "B365_Team_odd_pred                   0.000\n",
       "B365_opponent_odd_pred               0.000\n",
       "IW_Team_odd_pred                     0.000\n",
       "B365_Team_last_4_games               0.000\n",
       "B365_Opponent_last_4_games           0.000\n",
       "IW_Team_draw_pred                    0.000\n",
       "Ratio_Opponent                       0.000\n",
       "BW_Team_odd_pred                     0.000\n",
       "BW_opponent_odd_pred                 0.000\n",
       "BW_Team_draw_pred                    0.000\n",
       "Max_Draw                             0.000\n",
       "Avg_Opponent                         0.000\n",
       "Span_Opponent                        0.000\n",
       "Opponent                             0.000\n",
       "BW_Opponent                          0.000\n",
       "BW_Draw                              0.000\n",
       "BW_Team                              0.000\n",
       "B365_Opponent                        0.000\n",
       "B365_Draw                            0.000\n",
       "B365_Team                            0.000\n",
       "IW_Opponent                          0.000\n",
       "IW_Team                              0.000\n",
       "month                                0.000\n",
       "Div                                  0.000\n",
       "year                                 0.000\n",
       "Max_Team                             0.000\n",
       "Min_Team                             0.000\n",
       "Avg_Team                             0.000\n",
       "Span_Team                            0.000\n",
       "Ratio_Team                           0.000\n",
       "Max_Opponent                         0.000\n",
       "Min_Opponent                         0.000\n",
       "Span_Draw_last_4_games               0.000\n",
       "dtype: float64"
      ]
     },
     "execution_count": 14,
     "metadata": {},
     "output_type": "execute_result"
    }
   ],
   "source": [
    "import numpy as np\n",
    "f_i = np.round(pd.Series(clf.feature_importances_),3)\n",
    "f_i.index = features\n",
    "f_i.sort_values(ascending=False)"
   ]
  },
  {
   "cell_type": "code",
   "execution_count": null,
   "metadata": {},
   "outputs": [],
   "source": [
    "\"BW_opponent_odd_pred\",\"B365_Opponent\",\"Avg_Opponent\",\"IW_Team\",\"Span_Draw\"      "
   ]
  },
  {
   "cell_type": "code",
   "execution_count": null,
   "metadata": {},
   "outputs": [],
   "source": [
    "sum(f_i>0.01)"
   ]
  }
 ],
 "metadata": {
  "kernelspec": {
   "display_name": "Python 3",
   "language": "python",
   "name": "python3"
  },
  "language_info": {
   "codemirror_mode": {
    "name": "ipython",
    "version": 3
   },
   "file_extension": ".py",
   "mimetype": "text/x-python",
   "name": "python",
   "nbconvert_exporter": "python",
   "pygments_lexer": "ipython3",
   "version": "3.7.3"
  },
  "orig_nbformat": 4
 },
 "nbformat": 4,
 "nbformat_minor": 2
}
