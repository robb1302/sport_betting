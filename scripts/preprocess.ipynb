{
 "cells": [
  {
   "cell_type": "code",
   "execution_count": 95,
   "metadata": {},
   "outputs": [],
   "source": [
    "import pandas as pd\n",
    "import sys\n",
    "import os\n",
    "from os import listdir\n",
    "os.chdir(\"c:/Users/Robert/Documents/Projekte/dev/sport_betting/\")\n",
    "import config as CONFIG\n",
    "pd.set_option('display.max_columns', 500)\n",
    "\n",
    "from src.features import load_team_opponent\n",
    "from src.features.preprocess import derived_odds,get_bookmaker, get_odd_pred, split_date,add_last_3_scores_column\n",
    "import numpy as np"
   ]
  },
  {
   "cell_type": "markdown",
   "metadata": {},
   "source": [
    "# Lade Daten ein"
   ]
  },
  {
   "cell_type": "markdown",
   "metadata": {},
   "source": [
    "## Team Opponent"
   ]
  },
  {
   "cell_type": "code",
   "execution_count": 96,
   "metadata": {},
   "outputs": [
    {
     "name": "stderr",
     "output_type": "stream",
     "text": [
      "C:\\Users\\Robert\\AppData\\Roaming\\Python\\Python37\\site-packages\\ipykernel_launcher.py:1: FutureWarning: In a future version of pandas all arguments of read_csv except for the argument 'filepath_or_buffer' will be keyword-only\n",
      "  \"\"\"Entry point for launching an IPython kernel.\n"
     ]
    }
   ],
   "source": [
    "df = load_team_opponent(filename_main = CONFIG.DATA_FOLDER_RAW+'main_leagues_database_raw.sav')\n"
   ]
  },
  {
   "attachments": {},
   "cell_type": "markdown",
   "metadata": {},
   "source": [
    "## Sortiere den Datensatz nach Datum, für die Durchschnittsfelder"
   ]
  },
  {
   "cell_type": "code",
   "execution_count": 97,
   "metadata": {},
   "outputs": [],
   "source": [
    "df = split_date(df)\n",
    "df = df.sort_values(['year','month','day'],ascending=True)\n",
    "df = df.reset_index()"
   ]
  },
  {
   "cell_type": "code",
   "execution_count": 98,
   "metadata": {},
   "outputs": [],
   "source": [
    "df[\"diff_FTG_against_Opponent\"] = df[\"FTG_Team\"]-df[\"FTG_Opponent\"]\n",
    "df[\"diff_ShotsOnTarget_against_Opponent\"] = df[\"ShotsOnTarget_Team\"]-df[\"ShotsOnTarget_Opponent\"]"
   ]
  },
  {
   "cell_type": "code",
   "execution_count": 99,
   "metadata": {},
   "outputs": [],
   "source": [
    "df = add_last_3_scores_column(df = df, score_column=\"diff_FTG_against_Opponent\",anz_games=4)\n",
    "df = add_last_3_scores_column(df = df, score_column=\"diff_ShotsOnTarget_against_Opponent\",anz_games=4)\n",
    "df = add_last_3_scores_column(df = df, score_column=\"B365_Team\",anz_games=4)\n",
    "df = add_last_3_scores_column(df = df, score_column=\"B365_Opponent\",anz_games=4)\n",
    "df = df.dropna()"
   ]
  },
  {
   "cell_type": "markdown",
   "metadata": {},
   "source": [
    "# Erstelle Zielvariable"
   ]
  },
  {
   "cell_type": "code",
   "execution_count": 100,
   "metadata": {},
   "outputs": [
    {
     "data": {
      "text/plain": [
       "False    2065\n",
       "True     1259\n",
       "Name: Target, dtype: int64"
      ]
     },
     "execution_count": 100,
     "metadata": {},
     "output_type": "execute_result"
    }
   ],
   "source": [
    "df['Target'] = df.FTG_Team>df.FTG_Opponent\n",
    "df['Target'].value_counts()"
   ]
  },
  {
   "cell_type": "markdown",
   "metadata": {},
   "source": [
    "# Features entwicklen"
   ]
  },
  {
   "cell_type": "code",
   "execution_count": 101,
   "metadata": {},
   "outputs": [],
   "source": [
    "standad_attributes = ['Target','atHome','Date','Div']\n",
    "bookmaker_attributes = get_bookmaker(bm = 'BW',df = df)+get_bookmaker(bm='B365',df = df)+get_bookmaker(bm='IW',df = df)\n",
    "bet_on_team = get_bookmaker(bm='Team',df=df[bookmaker_attributes])\n",
    "bet_on_opponent = get_bookmaker(bm='Opponent',df=df[bookmaker_attributes])\n",
    "bet_on_draw = get_bookmaker(bm='Draw',df=df[bookmaker_attributes])\n"
   ]
  },
  {
   "cell_type": "code",
   "execution_count": 102,
   "metadata": {},
   "outputs": [],
   "source": [
    "df_derived_b365 = get_odd_pred(bet=\"B365\",df=df)\n",
    "df_derived_iw = get_odd_pred(bet=\"IW\",df=df)\n",
    "df_derived_bw = get_odd_pred(bet=\"BW\",df=df)\n"
   ]
  },
  {
   "cell_type": "code",
   "execution_count": 103,
   "metadata": {},
   "outputs": [
    {
     "ename": "AttributeError",
     "evalue": "'float' object has no attribute 'dtype'",
     "output_type": "error",
     "traceback": [
      "\u001b[1;31m---------------------------------------------------------------------------\u001b[0m",
      "\u001b[1;31mAttributeError\u001b[0m                            Traceback (most recent call last)",
      "\u001b[1;32m<ipython-input-103-a6792aa41cb6>\u001b[0m in \u001b[0;36m<module>\u001b[1;34m\u001b[0m\n\u001b[1;32m----> 1\u001b[1;33m \u001b[0mdf_derived_team\u001b[0m \u001b[1;33m=\u001b[0m \u001b[0mderived_odds\u001b[0m\u001b[1;33m(\u001b[0m\u001b[0msight\u001b[0m \u001b[1;33m=\u001b[0m \u001b[1;34m'Team'\u001b[0m\u001b[1;33m,\u001b[0m\u001b[0mdf\u001b[0m\u001b[1;33m=\u001b[0m\u001b[0mdf\u001b[0m\u001b[1;33m,\u001b[0m \u001b[0modds\u001b[0m\u001b[1;33m=\u001b[0m\u001b[0mbet_on_team\u001b[0m\u001b[1;33m)\u001b[0m\u001b[1;33m\u001b[0m\u001b[1;33m\u001b[0m\u001b[0m\n\u001b[0m\u001b[0;32m      2\u001b[0m \u001b[0mdf_derived_opponent\u001b[0m \u001b[1;33m=\u001b[0m \u001b[0mderived_odds\u001b[0m\u001b[1;33m(\u001b[0m\u001b[0msight\u001b[0m \u001b[1;33m=\u001b[0m \u001b[1;34m'Opponent'\u001b[0m\u001b[1;33m,\u001b[0m\u001b[0mdf\u001b[0m\u001b[1;33m=\u001b[0m\u001b[0mdf\u001b[0m\u001b[1;33m,\u001b[0m \u001b[0modds\u001b[0m\u001b[1;33m=\u001b[0m\u001b[0mbet_on_opponent\u001b[0m\u001b[1;33m)\u001b[0m\u001b[1;33m\u001b[0m\u001b[1;33m\u001b[0m\u001b[0m\n\u001b[0;32m      3\u001b[0m \u001b[0mdf_derived_draw\u001b[0m \u001b[1;33m=\u001b[0m \u001b[0mderived_odds\u001b[0m\u001b[1;33m(\u001b[0m\u001b[0msight\u001b[0m \u001b[1;33m=\u001b[0m \u001b[1;34m'Draw'\u001b[0m\u001b[1;33m,\u001b[0m\u001b[0mdf\u001b[0m\u001b[1;33m=\u001b[0m\u001b[0mdf\u001b[0m\u001b[1;33m,\u001b[0m \u001b[0modds\u001b[0m\u001b[1;33m=\u001b[0m\u001b[0mbet_on_draw\u001b[0m\u001b[1;33m)\u001b[0m\u001b[1;33m\u001b[0m\u001b[1;33m\u001b[0m\u001b[0m\n",
      "\u001b[1;32mc:\\Users\\Robert\\Documents\\Projekte\\dev\\sport_betting\\src\\features\\preprocess.py\u001b[0m in \u001b[0;36mderived_odds\u001b[1;34m(sight, df, odds)\u001b[0m\n\u001b[0;32m     49\u001b[0m     \u001b[0mreturn_df\u001b[0m\u001b[1;33m[\u001b[0m\u001b[1;34mf'Max_{sight}'\u001b[0m\u001b[1;33m]\u001b[0m \u001b[1;33m=\u001b[0m \u001b[0mdf\u001b[0m\u001b[1;33m[\u001b[0m\u001b[0modds\u001b[0m\u001b[1;33m]\u001b[0m\u001b[1;33m.\u001b[0m\u001b[0mapply\u001b[0m\u001b[1;33m(\u001b[0m\u001b[0mmax\u001b[0m\u001b[1;33m,\u001b[0m\u001b[0maxis\u001b[0m\u001b[1;33m=\u001b[0m\u001b[1;36m1\u001b[0m\u001b[1;33m)\u001b[0m\u001b[1;33m\u001b[0m\u001b[1;33m\u001b[0m\u001b[0m\n\u001b[0;32m     50\u001b[0m     \u001b[0mreturn_df\u001b[0m\u001b[1;33m[\u001b[0m\u001b[1;34mf'Min_{sight}'\u001b[0m\u001b[1;33m]\u001b[0m \u001b[1;33m=\u001b[0m \u001b[0mdf\u001b[0m\u001b[1;33m[\u001b[0m\u001b[0modds\u001b[0m\u001b[1;33m]\u001b[0m\u001b[1;33m.\u001b[0m\u001b[0mapply\u001b[0m\u001b[1;33m(\u001b[0m\u001b[0mmin\u001b[0m\u001b[1;33m,\u001b[0m\u001b[0maxis\u001b[0m\u001b[1;33m=\u001b[0m\u001b[1;36m1\u001b[0m\u001b[1;33m)\u001b[0m\u001b[1;33m\u001b[0m\u001b[1;33m\u001b[0m\u001b[0m\n\u001b[1;32m---> 51\u001b[1;33m     \u001b[0mreturn_df\u001b[0m\u001b[1;33m[\u001b[0m\u001b[1;34mf'Avg_{sight}'\u001b[0m\u001b[1;33m]\u001b[0m \u001b[1;33m=\u001b[0m \u001b[0mdf\u001b[0m\u001b[1;33m[\u001b[0m\u001b[0modds\u001b[0m\u001b[1;33m]\u001b[0m\u001b[1;33m.\u001b[0m\u001b[0mapply\u001b[0m\u001b[1;33m(\u001b[0m\u001b[0mnp\u001b[0m\u001b[1;33m.\u001b[0m\u001b[0maverage\u001b[0m\u001b[1;33m,\u001b[0m\u001b[0maxis\u001b[0m\u001b[1;33m=\u001b[0m\u001b[1;36m1\u001b[0m\u001b[1;33m)\u001b[0m\u001b[1;33m\u001b[0m\u001b[1;33m\u001b[0m\u001b[0m\n\u001b[0m\u001b[0;32m     52\u001b[0m \u001b[1;33m\u001b[0m\u001b[0m\n\u001b[0;32m     53\u001b[0m     \u001b[0mreturn_df\u001b[0m\u001b[1;33m[\u001b[0m\u001b[1;34mf'Span_{sight}'\u001b[0m\u001b[1;33m]\u001b[0m \u001b[1;33m=\u001b[0m \u001b[0mreturn_df\u001b[0m\u001b[1;33m[\u001b[0m\u001b[1;34mf'Max_{sight}'\u001b[0m\u001b[1;33m]\u001b[0m\u001b[1;33m-\u001b[0m\u001b[0mreturn_df\u001b[0m\u001b[1;33m[\u001b[0m\u001b[1;34mf'Min_{sight}'\u001b[0m\u001b[1;33m]\u001b[0m\u001b[1;33m\u001b[0m\u001b[1;33m\u001b[0m\u001b[0m\n",
      "\u001b[1;32m~\\AppData\\Roaming\\Python\\Python37\\site-packages\\pandas\\core\\frame.py\u001b[0m in \u001b[0;36mapply\u001b[1;34m(self, func, axis, raw, result_type, args, **kwargs)\u001b[0m\n\u001b[0;32m   8738\u001b[0m             \u001b[0mkwargs\u001b[0m\u001b[1;33m=\u001b[0m\u001b[0mkwargs\u001b[0m\u001b[1;33m,\u001b[0m\u001b[1;33m\u001b[0m\u001b[1;33m\u001b[0m\u001b[0m\n\u001b[0;32m   8739\u001b[0m         )\n\u001b[1;32m-> 8740\u001b[1;33m         \u001b[1;32mreturn\u001b[0m \u001b[0mop\u001b[0m\u001b[1;33m.\u001b[0m\u001b[0mapply\u001b[0m\u001b[1;33m(\u001b[0m\u001b[1;33m)\u001b[0m\u001b[1;33m\u001b[0m\u001b[1;33m\u001b[0m\u001b[0m\n\u001b[0m\u001b[0;32m   8741\u001b[0m \u001b[1;33m\u001b[0m\u001b[0m\n\u001b[0;32m   8742\u001b[0m     def applymap(\n",
      "\u001b[1;32m~\\AppData\\Roaming\\Python\\Python37\\site-packages\\pandas\\core\\apply.py\u001b[0m in \u001b[0;36mapply\u001b[1;34m(self)\u001b[0m\n\u001b[0;32m    686\u001b[0m             \u001b[1;32mreturn\u001b[0m \u001b[0mself\u001b[0m\u001b[1;33m.\u001b[0m\u001b[0mapply_raw\u001b[0m\u001b[1;33m(\u001b[0m\u001b[1;33m)\u001b[0m\u001b[1;33m\u001b[0m\u001b[1;33m\u001b[0m\u001b[0m\n\u001b[0;32m    687\u001b[0m \u001b[1;33m\u001b[0m\u001b[0m\n\u001b[1;32m--> 688\u001b[1;33m         \u001b[1;32mreturn\u001b[0m \u001b[0mself\u001b[0m\u001b[1;33m.\u001b[0m\u001b[0mapply_standard\u001b[0m\u001b[1;33m(\u001b[0m\u001b[1;33m)\u001b[0m\u001b[1;33m\u001b[0m\u001b[1;33m\u001b[0m\u001b[0m\n\u001b[0m\u001b[0;32m    689\u001b[0m \u001b[1;33m\u001b[0m\u001b[0m\n\u001b[0;32m    690\u001b[0m     \u001b[1;32mdef\u001b[0m \u001b[0magg\u001b[0m\u001b[1;33m(\u001b[0m\u001b[0mself\u001b[0m\u001b[1;33m)\u001b[0m\u001b[1;33m:\u001b[0m\u001b[1;33m\u001b[0m\u001b[1;33m\u001b[0m\u001b[0m\n",
      "\u001b[1;32m~\\AppData\\Roaming\\Python\\Python37\\site-packages\\pandas\\core\\apply.py\u001b[0m in \u001b[0;36mapply_standard\u001b[1;34m(self)\u001b[0m\n\u001b[0;32m    810\u001b[0m \u001b[1;33m\u001b[0m\u001b[0m\n\u001b[0;32m    811\u001b[0m     \u001b[1;32mdef\u001b[0m \u001b[0mapply_standard\u001b[0m\u001b[1;33m(\u001b[0m\u001b[0mself\u001b[0m\u001b[1;33m)\u001b[0m\u001b[1;33m:\u001b[0m\u001b[1;33m\u001b[0m\u001b[1;33m\u001b[0m\u001b[0m\n\u001b[1;32m--> 812\u001b[1;33m         \u001b[0mresults\u001b[0m\u001b[1;33m,\u001b[0m \u001b[0mres_index\u001b[0m \u001b[1;33m=\u001b[0m \u001b[0mself\u001b[0m\u001b[1;33m.\u001b[0m\u001b[0mapply_series_generator\u001b[0m\u001b[1;33m(\u001b[0m\u001b[1;33m)\u001b[0m\u001b[1;33m\u001b[0m\u001b[1;33m\u001b[0m\u001b[0m\n\u001b[0m\u001b[0;32m    813\u001b[0m \u001b[1;33m\u001b[0m\u001b[0m\n\u001b[0;32m    814\u001b[0m         \u001b[1;31m# wrap results\u001b[0m\u001b[1;33m\u001b[0m\u001b[1;33m\u001b[0m\u001b[1;33m\u001b[0m\u001b[0m\n",
      "\u001b[1;32m~\\AppData\\Roaming\\Python\\Python37\\site-packages\\pandas\\core\\apply.py\u001b[0m in \u001b[0;36mapply_series_generator\u001b[1;34m(self)\u001b[0m\n\u001b[0;32m    826\u001b[0m             \u001b[1;32mfor\u001b[0m \u001b[0mi\u001b[0m\u001b[1;33m,\u001b[0m \u001b[0mv\u001b[0m \u001b[1;32min\u001b[0m \u001b[0menumerate\u001b[0m\u001b[1;33m(\u001b[0m\u001b[0mseries_gen\u001b[0m\u001b[1;33m)\u001b[0m\u001b[1;33m:\u001b[0m\u001b[1;33m\u001b[0m\u001b[1;33m\u001b[0m\u001b[0m\n\u001b[0;32m    827\u001b[0m                 \u001b[1;31m# ignore SettingWithCopy here in case the user mutates\u001b[0m\u001b[1;33m\u001b[0m\u001b[1;33m\u001b[0m\u001b[1;33m\u001b[0m\u001b[0m\n\u001b[1;32m--> 828\u001b[1;33m                 \u001b[0mresults\u001b[0m\u001b[1;33m[\u001b[0m\u001b[0mi\u001b[0m\u001b[1;33m]\u001b[0m \u001b[1;33m=\u001b[0m \u001b[0mself\u001b[0m\u001b[1;33m.\u001b[0m\u001b[0mf\u001b[0m\u001b[1;33m(\u001b[0m\u001b[0mv\u001b[0m\u001b[1;33m)\u001b[0m\u001b[1;33m\u001b[0m\u001b[1;33m\u001b[0m\u001b[0m\n\u001b[0m\u001b[0;32m    829\u001b[0m                 \u001b[1;32mif\u001b[0m \u001b[0misinstance\u001b[0m\u001b[1;33m(\u001b[0m\u001b[0mresults\u001b[0m\u001b[1;33m[\u001b[0m\u001b[0mi\u001b[0m\u001b[1;33m]\u001b[0m\u001b[1;33m,\u001b[0m \u001b[0mABCSeries\u001b[0m\u001b[1;33m)\u001b[0m\u001b[1;33m:\u001b[0m\u001b[1;33m\u001b[0m\u001b[1;33m\u001b[0m\u001b[0m\n\u001b[0;32m    830\u001b[0m                     \u001b[1;31m# If we have a view on v, we need to make a copy because\u001b[0m\u001b[1;33m\u001b[0m\u001b[1;33m\u001b[0m\u001b[1;33m\u001b[0m\u001b[0m\n",
      "\u001b[1;32m<__array_function__ internals>\u001b[0m in \u001b[0;36maverage\u001b[1;34m(*args, **kwargs)\u001b[0m\n",
      "\u001b[1;32mc:\\Users\\Robert\\AppData\\Local\\Programs\\Python\\Python37\\lib\\site-packages\\numpy\\lib\\function_base.py\u001b[0m in \u001b[0;36maverage\u001b[1;34m(a, axis, weights, returned)\u001b[0m\n\u001b[0;32m    379\u001b[0m     \u001b[1;32mif\u001b[0m \u001b[0mweights\u001b[0m \u001b[1;32mis\u001b[0m \u001b[1;32mNone\u001b[0m\u001b[1;33m:\u001b[0m\u001b[1;33m\u001b[0m\u001b[1;33m\u001b[0m\u001b[0m\n\u001b[0;32m    380\u001b[0m         \u001b[0mavg\u001b[0m \u001b[1;33m=\u001b[0m \u001b[0ma\u001b[0m\u001b[1;33m.\u001b[0m\u001b[0mmean\u001b[0m\u001b[1;33m(\u001b[0m\u001b[0maxis\u001b[0m\u001b[1;33m)\u001b[0m\u001b[1;33m\u001b[0m\u001b[1;33m\u001b[0m\u001b[0m\n\u001b[1;32m--> 381\u001b[1;33m         \u001b[0mscl\u001b[0m \u001b[1;33m=\u001b[0m \u001b[0mavg\u001b[0m\u001b[1;33m.\u001b[0m\u001b[0mdtype\u001b[0m\u001b[1;33m.\u001b[0m\u001b[0mtype\u001b[0m\u001b[1;33m(\u001b[0m\u001b[0ma\u001b[0m\u001b[1;33m.\u001b[0m\u001b[0msize\u001b[0m\u001b[1;33m/\u001b[0m\u001b[0mavg\u001b[0m\u001b[1;33m.\u001b[0m\u001b[0msize\u001b[0m\u001b[1;33m)\u001b[0m\u001b[1;33m\u001b[0m\u001b[1;33m\u001b[0m\u001b[0m\n\u001b[0m\u001b[0;32m    382\u001b[0m     \u001b[1;32melse\u001b[0m\u001b[1;33m:\u001b[0m\u001b[1;33m\u001b[0m\u001b[1;33m\u001b[0m\u001b[0m\n\u001b[0;32m    383\u001b[0m         \u001b[0mwgt\u001b[0m \u001b[1;33m=\u001b[0m \u001b[0mnp\u001b[0m\u001b[1;33m.\u001b[0m\u001b[0masanyarray\u001b[0m\u001b[1;33m(\u001b[0m\u001b[0mweights\u001b[0m\u001b[1;33m)\u001b[0m\u001b[1;33m\u001b[0m\u001b[1;33m\u001b[0m\u001b[0m\n",
      "\u001b[1;31mAttributeError\u001b[0m: 'float' object has no attribute 'dtype'"
     ]
    }
   ],
   "source": [
    "df_derived_team = derived_odds(sight = 'Team',df=df, odds=bet_on_team)\n",
    "df_derived_opponent = derived_odds(sight = 'Opponent',df=df, odds=bet_on_opponent)\n",
    "df_derived_draw = derived_odds(sight = 'Draw',df=df, odds=bet_on_draw)\n"
   ]
  },
  {
   "cell_type": "markdown",
   "metadata": {},
   "source": [
    "# Modelldatensatz erstellen"
   ]
  },
  {
   "cell_type": "code",
   "execution_count": null,
   "metadata": {},
   "outputs": [],
   "source": [
    "model_data = pd.concat([df[standad_attributes],df[bookmaker_attributes],df[[\"Team\",\"month\",\"year\"]],df_derived_team,df_derived_opponent,df_derived_draw,df_derived_b365,df_derived_iw,df_derived_bw],axis=1)"
   ]
  },
  {
   "cell_type": "code",
   "execution_count": null,
   "metadata": {},
   "outputs": [],
   "source": [
    "model_data = pd.concat([df[standad_attributes],df_derived_team,df_derived_opponent,df_derived_draw,df[bookmaker_attributes],df[[\"Div\",\"Team\"]]],axis=1)\n",
    "#model_data = pd.concat([df[standad_attributes],df[bookmaker_attributes],df_derived_team,df_derived_opponent,df_derived_draw],axis=1)\n",
    "model_data = pd.concat([df[standad_attributes],df[bookmaker_attributes],df[[\"Team\",\"month\",\"year\"]],df_derived_team,df_derived_opponent,df_derived_draw,df_derived_b365,df_derived_iw,df_derived_bw],axis=1)\n"
   ]
  },
  {
   "cell_type": "code",
   "execution_count": null,
   "metadata": {},
   "outputs": [],
   "source": [
    "model_data.replace([np.inf, -np.inf], np.nan, inplace=True)\n",
    "model_data =  model_data.dropna(0)"
   ]
  },
  {
   "cell_type": "code",
   "execution_count": null,
   "metadata": {},
   "outputs": [],
   "source": [
    "anew_df = add_last_3_scores_column(df = df, score_column=\"B365_Team\")"
   ]
  },
  {
   "cell_type": "code",
   "execution_count": null,
   "metadata": {},
   "outputs": [],
   "source": [
    "from sklearn import preprocessing\n",
    "le_div = preprocessing.LabelEncoder()\n",
    "le_team = preprocessing.LabelEncoder()\n",
    "\n",
    "le_team.fit(list(set(model_data.Team)))\n",
    "model_data.Team = le_team.transform(model_data.Team)\n",
    "\n",
    "\n",
    "\n",
    "# array([2, 2, 1]...)\n",
    "# >>> list(le.inverse_transform([2, 2, 1]))\n",
    "# ['tokyo', 'tokyo', 'paris']"
   ]
  },
  {
   "cell_type": "code",
   "execution_count": null,
   "metadata": {},
   "outputs": [],
   "source": [
    "le_team.fit(list(set(model_data.Team)))\n",
    "model_data.Team = le_team.transform(model_data.Team)"
   ]
  },
  {
   "cell_type": "code",
   "execution_count": null,
   "metadata": {},
   "outputs": [],
   "source": [
    "le_div.fit(list(set(model_data.Div)))\n",
    "model_data.Div = le_div.transform(model_data.Div)\n"
   ]
  },
  {
   "cell_type": "code",
   "execution_count": null,
   "metadata": {},
   "outputs": [],
   "source": []
  },
  {
   "cell_type": "code",
   "execution_count": null,
   "metadata": {},
   "outputs": [],
   "source": [
    "# drop_list = [\"Date\",\"Team\",\"Div\",'BW_Opponent', 'BW_Draw', 'BW_Team',\n",
    "#        'B365_Opponent', 'B365_Draw', 'B365_Team', 'IW_Opponent', 'IW_Draw',\n",
    "#        'IW_Team', 'month', 'year', 'Max_Team', 'Min_Team', 'Avg_Team',\n",
    "#        'Span_Team', 'Ratio_Team', 'Max_Opponent', 'Min_Opponent',\n",
    "#        'Avg_Opponent', 'Span_Opponent', 'Ratio_Opponent', 'Max_Draw',\n",
    "#        'Min_Draw', 'Avg_Draw', 'Span_Draw', 'Ratio_Draw']\n",
    "# model_data = model_data.drop(columns=drop_list)"
   ]
  },
  {
   "cell_type": "markdown",
   "metadata": {},
   "source": [
    "Aufteilen in Training, Test und Validierung"
   ]
  },
  {
   "cell_type": "code",
   "execution_count": null,
   "metadata": {},
   "outputs": [],
   "source": [
    "import datetime\n",
    "datum_1_1_2020 = datetime.datetime(2021, 6, 1)\n",
    "anwendung = model_data[model_data.Date>datum_1_1_2020]\n",
    "model_data = model_data[model_data.Date<datum_1_1_2020]\n"
   ]
  },
  {
   "cell_type": "code",
   "execution_count": null,
   "metadata": {},
   "outputs": [],
   "source": [
    "model_data.columns\n",
    "model_data.to_csv(GLOBALS.DATA_FOLDER + 'model_data.csv')\n",
    "anwendung.to_csv(GLOBALS.DATA_FOLDER + 'val_data.csv')"
   ]
  },
  {
   "cell_type": "markdown",
   "metadata": {},
   "source": [
    "# Modellieren"
   ]
  },
  {
   "cell_type": "code",
   "execution_count": null,
   "metadata": {},
   "outputs": [],
   "source": [
    "[c for c in df.columns if 'last' in c ]"
   ]
  },
  {
   "cell_type": "code",
   "execution_count": null,
   "metadata": {},
   "outputs": [],
   "source": [
    "model_data = df[['FTG_Team_last_3_games',\n",
    " 'diff_FTG_last_3_games',\n",
    " 'diff_FTG_against_Opponent_last_4_games',\n",
    " 'diff_ShotsOnTarget_against_Opponent_last_4_games',\n",
    " 'B365_Team_last_4_games',\n",
    " 'B365_Opponent_last_4_games','B365_Team','Target']]"
   ]
  },
  {
   "cell_type": "code",
   "execution_count": null,
   "metadata": {},
   "outputs": [],
   "source": [
    "model_data = model_data.dropna()"
   ]
  },
  {
   "cell_type": "code",
   "execution_count": null,
   "metadata": {},
   "outputs": [],
   "source": [
    "from sklearn.model_selection import train_test_split\n",
    "\n",
    "y = model_data['Target']\n",
    "X = model_data.drop(['Target'], axis=1)\n",
    "\n",
    "\n",
    "X_train, X_test, y_train, y_test = train_test_split(\n",
    "    X, y, random_state=0, stratify=y)"
   ]
  },
  {
   "cell_type": "code",
   "execution_count": null,
   "metadata": {},
   "outputs": [],
   "source": []
  },
  {
   "cell_type": "code",
   "execution_count": null,
   "metadata": {},
   "outputs": [],
   "source": [
    "\n",
    "\n",
    "from sklearn.ensemble import RandomForestClassifier\n",
    "from sklearn.model_selection import GridSearchCV  \n",
    "from xgboost import XGBClassifier, XGBRegressor\n",
    "model = RandomForestClassifier(\n",
    "      n_estimators=200, random_state=0, verbose=1, min_samples_leaf=5, min_samples_split=10)\n",
    "#model = XGBClassifier(n_estimators=200,random_state = 0,verbose=1, min_samples_leaf= 5, min_samples_split = 10)\n",
    "parameters = {\n",
    "\t'selector__threshold': [0],\n",
    "\t'classifier__n_neighbors': [1],\n",
    "\t'classifier__max_depth': [5],\n",
    "\t'classifier__learning_rate': [0.01],\n",
    "\t'classifier__n_estimators': [100,]\n",
    "}\n",
    " \n",
    " \n",
    "#model = GridSearchCV(XGBClassifier(), parameters,cv=10,scoring = 'precision').fit(X_train, y_train)\n",
    "#model = gridsearch(model, X_train, y_train)\n",
    "#model = XGBRegressor()\n",
    "model.fit(X=X_train, y=y_train)\n"
   ]
  },
  {
   "cell_type": "code",
   "execution_count": null,
   "metadata": {},
   "outputs": [],
   "source": [
    "[*zip(X.columns ,model.feature_importances_)]"
   ]
  },
  {
   "cell_type": "code",
   "execution_count": null,
   "metadata": {},
   "outputs": [],
   "source": [
    "from sklearn.metrics import *"
   ]
  },
  {
   "cell_type": "code",
   "execution_count": null,
   "metadata": {},
   "outputs": [],
   "source": [
    "y_pred = model.predict(X_test)"
   ]
  },
  {
   "cell_type": "code",
   "execution_count": null,
   "metadata": {},
   "outputs": [],
   "source": [
    "precision_score(model.predict(X_test),y_test)"
   ]
  },
  {
   "cell_type": "code",
   "execution_count": null,
   "metadata": {},
   "outputs": [],
   "source": [
    "true = X_test[y_test!=y_pred]\n",
    "df.loc[true.index][['Team','Opponent','FTG_Team','FTG_Opponent']]"
   ]
  },
  {
   "cell_type": "code",
   "execution_count": null,
   "metadata": {},
   "outputs": [],
   "source": [
    "df.iloc[8773]"
   ]
  },
  {
   "cell_type": "code",
   "execution_count": null,
   "metadata": {},
   "outputs": [],
   "source": []
  },
  {
   "cell_type": "code",
   "execution_count": null,
   "metadata": {},
   "outputs": [],
   "source": [
    "y_anw = anwendung['Target']\n",
    "X_anw  = anwendung.drop(['Target'], axis=1)\n",
    "\n",
    "evaluate_model(model, y_anw, X_anw, show=False,threshold=0.5)"
   ]
  },
  {
   "cell_type": "code",
   "execution_count": null,
   "metadata": {},
   "outputs": [],
   "source": [
    "\n",
    "evaluate_model(model, y_test, X_test, show=False,threshold=0.5)"
   ]
  },
  {
   "cell_type": "code",
   "execution_count": null,
   "metadata": {},
   "outputs": [],
   "source": [
    "model_data.dtypes"
   ]
  },
  {
   "cell_type": "code",
   "execution_count": null,
   "metadata": {},
   "outputs": [],
   "source": [
    "y_pred_proba = model.predict_proba(X_anw)[:,1]\n",
    "y_pred_proba = pd.Series(y_pred_proba,index=X_anw.index,name='pred')\n",
    "results = pd.concat([y_pred_proba,y_anw,df.FTG_Team,df.FTG_Opponent,df.BW_Team,df.BW_Opponent,df.BW_Draw,df.IW_Team,df.IW_Opponent,df.IW_Draw,df.B365_Team,df.B365_Opponent,df.B365_Draw,df.Date,df.year,df.month,df.day],axis=1,join='inner')\n",
    "results"
   ]
  },
  {
   "cell_type": "code",
   "execution_count": null,
   "metadata": {},
   "outputs": [],
   "source": [
    "stichtage =results[[\"year\",\"month\",\"day\"]].drop_duplicates()\n",
    "stichtage"
   ]
  },
  {
   "cell_type": "code",
   "execution_count": null,
   "metadata": {},
   "outputs": [],
   "source": [
    "r = evaluate_my_bets(bet='BW',pred_min=pred_min,odd_min=odd_min,results = match_day,method='kombi')\n",
    "r>0"
   ]
  },
  {
   "cell_type": "code",
   "execution_count": null,
   "metadata": {},
   "outputs": [],
   "source": [
    "i=20\n",
    "year = stichtage.year.iloc[i]\n",
    "month = stichtage.month.iloc[i]\n",
    "day =stichtage.day.iloc[i]\n",
    "match_day = results[(results.year == year)&(results.month == month)&(results.day == day)]\n",
    "ren = []\n",
    "pred_min = 0.6\n",
    "odd_min = 1.8\n",
    "for i in range(0,len(stichtage)):\n",
    "    year = stichtage.year.iloc[i]\n",
    "    month = stichtage.month.iloc[i]\n",
    "    day =stichtage.day.iloc[i]\n",
    "    match_day = results[(results.year == year)&(results.month == month)&(results.day == day)]\n",
    "    r = evaluate_my_bets(bet='BW',pred_min=pred_min,odd_min=odd_min,results = match_day,method='kombi')\n",
    "    if r>0:\n",
    "        print(i)\n",
    "        ren +=[r]\n",
    "        #ren +=[match_day.Target[(match_day.pred>pred_min)&(match_day.BW_Team>odd_min)]]\n",
    "\n",
    "sum(ren)"
   ]
  },
  {
   "cell_type": "code",
   "execution_count": null,
   "metadata": {},
   "outputs": [],
   "source": [
    "sum(ren)/len(stichtage)"
   ]
  },
  {
   "cell_type": "code",
   "execution_count": null,
   "metadata": {},
   "outputs": [],
   "source": [
    "bet = 'BW'\n",
    "pred_min = 0.6\n",
    "odd_min = 2.1\n",
    "def evaluate_my_bets(bet,pred_min,odd_min,results,method = 'single'):\n",
    "    pred_bet = results[bet+\"_Team\"]/((results[bet+\"_Team\"]+results[bet+\"_Opponent\"]+results[bet+\"_Draw\"]))\n",
    "\n",
    "    kandidaten = results[results.pred>pred_bet][results.pred>pred_min][results[bet+\"_Team\"]>odd_min]\n",
    "\n",
    "    kandidaten = kandidaten[[\"Target\",\"FTG_Team\",\"FTG_Opponent\",bet+\"_Team\",\"pred\"]].join(df[\"Div\"])\n",
    "\n",
    "    \n",
    "    if kandidaten.shape[0]>0:\n",
    "        if method == 'single':\n",
    "            rendite = sum(kandidaten[df.Target][bet+\"_Team\"])/kandidaten.shape[0]\n",
    "        elif method == 'kombi':\n",
    "            bet_on = (match_day.pred>pred_min)&((match_day[bet+\"_Team\"]>odd_min))\n",
    "            bets = match_day.Target[bet_on]\n",
    "            if np.prod(bets) == 1:\n",
    "                rendite = np.prod(match_day[bet+\"_Team\"][bet_on])\n",
    "            else: \n",
    "                rendite = 0\n",
    "    else:\n",
    "        rendite = 0\n",
    "    # print(\"getippte Spiele\",kandidaten.shape[0])\n",
    "    # print(\"Richtige Spiele:\",sum(kandidaten.Target))\n",
    "    # print(\"Rendite:\",rendite)\n",
    "    kandidaten\n",
    "    return rendite\n",
    "\n",
    "evaluate_my_bets(bet='IW',pred_min=0.7,odd_min=1,results = match_day,method = 'kombi')"
   ]
  },
  {
   "cell_type": "code",
   "execution_count": null,
   "metadata": {},
   "outputs": [],
   "source": [
    "            bet_on = (match_day.pred>0.4)&((match_day[bet+\"_Team\"]>odd_min))\n",
    "            bets = match_day.Target[bet_on]\n",
    "            bets"
   ]
  },
  {
   "cell_type": "code",
   "execution_count": null,
   "metadata": {},
   "outputs": [],
   "source": [
    "match_day\n",
    "bets = match_day.Target[match_day.pred>pred_min]\n",
    "print(np.prod(bets))\n",
    "if np.prod(bets) == 1:\n",
    "    rendite = np.prod(match_day[bet+\"_Team\"][match_day.pred>pred_min])\n",
    "rendite\n",
    "\n",
    "#match_day[match_day.Target==(match_day.pred>0.5)][match_day.Target].BW_Team"
   ]
  },
  {
   "cell_type": "code",
   "execution_count": null,
   "metadata": {},
   "outputs": [],
   "source": [
    "match_day"
   ]
  },
  {
   "cell_type": "code",
   "execution_count": null,
   "metadata": {},
   "outputs": [],
   "source": [
    "evaluate_my_bets(bet='BW',pred_min=0.7,odd_min=2.0,results = results[results.year==2021])\n",
    "evaluate_my_bets(bet='BW',pred_min=0.7,odd_min=2.,results = results[results.year==2022])"
   ]
  },
  {
   "cell_type": "code",
   "execution_count": null,
   "metadata": {},
   "outputs": [],
   "source": [
    "umsatz  =[]\n",
    "for p in range(50,100):\n",
    "    p = p/100\n",
    "    umsatz += [evaluate_my_bets(bet='IW',pred_min=p,odd_min=2,results = results[results.year==2019])]\n",
    "\n",
    "\n",
    "max(umsatz)\n"
   ]
  },
  {
   "cell_type": "code",
   "execution_count": null,
   "metadata": {},
   "outputs": [],
   "source": [
    "evaluate_my_bets(bet='IW',pred_min=0.6,odd_min=2,results = results[results.year==2019])"
   ]
  },
  {
   "cell_type": "code",
   "execution_count": null,
   "metadata": {},
   "outputs": [],
   "source": []
  }
 ],
 "metadata": {
  "kernelspec": {
   "display_name": "Python 3.7.3 64-bit",
   "language": "python",
   "name": "python3"
  },
  "language_info": {
   "codemirror_mode": {
    "name": "ipython",
    "version": 3
   },
   "file_extension": ".py",
   "mimetype": "text/x-python",
   "name": "python",
   "nbconvert_exporter": "python",
   "pygments_lexer": "ipython3",
   "version": "3.7.3"
  },
  "orig_nbformat": 4,
  "vscode": {
   "interpreter": {
    "hash": "66a68a27e31420371b4e10fa01710111289cd6836e33b740a73554a2c7583218"
   }
  }
 },
 "nbformat": 4,
 "nbformat_minor": 2
}
