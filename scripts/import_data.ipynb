{
 "cells": [
  {
   "cell_type": "code",
   "execution_count": 1,
   "metadata": {},
   "outputs": [
    {
     "name": "stdout",
     "output_type": "stream",
     "text": [
      "Temporary folder exists. Deleting and recreating...\n",
      "Output folder exists. Deleting and recreating...\n"
     ]
    }
   ],
   "source": [
    "from src.utils import globals as GLOBALS\n",
    "import pandas as pd\n",
    "import sys\n",
    "from os import listdir\n",
    "pd.set_option('display.max_columns', 500)\n",
    "\n",
    "def createDirs(liga):\n",
    "    #main_path = \"C:/Users/Robert/Documents/Projekte/dev/bettingTool/data/leagues/\" + liga\n",
    "    main_path = GLOBALS.DATA_FOLDER+\"/leagues/\" + liga\n",
    "    newpathMarktwert = main_path + \"/marktwert\"\n",
    "    newpathSeason = main_path + \"/season\"\n",
    "    newpathxG = main_path + \"/xG\"\n",
    "    newpathLineup = main_path + \"/lineup\"\n",
    "\n",
    "def downloadLeague(liga=\"D1\", season=\"1920\"):\n",
    "    if liga in GLOBALS.MAIN_LEAGUES:\n",
    "        url = 'https://www.football-data.co.uk/mmz4281/' + season + '/' + liga + '.csv'\n",
    "    elif GLOBALS.EXTRA_LEAGUES:\n",
    "        url = f'https://www.football-data.co.uk/new/{liga}.csv'\n",
    "\n",
    "    data = pd.read_csv(url, sep=\",\", encoding='cp1252', error_bad_lines=False)  # use sep=\",\" for coma separation. \n",
    "    main_path =GLOBALS.DATA_FOLDER+\"/leagues/\"\n",
    "    data.to_csv(main_path + liga + '/season/' + liga + '_' + season + '.csv')\n",
    "    return(data)\n",
    "\n",
    "def split_date(df):\n",
    "    if 'Date' in df.columns:\n",
    "        new_date = (df[\"Date\"].str.split(\"/\",expand=True))\n",
    "        new_date.columns = [\"day\",\"month\",\"year\"]\n",
    "        new_date = new_date.astype('int')\n",
    "\n",
    "        new_date.year[new_date.year < 2000] = new_date.year[new_date.year < 2000]+2000\n",
    "\n",
    "        df = pd.concat([df,new_date],axis=1)\n",
    "    else:\n",
    "        print('Keine Spalte \"Date\" in Spalten vorhanden')\n",
    "    return df"
   ]
  },
  {
   "cell_type": "markdown",
   "metadata": {},
   "source": [
    "Lade alle Ligen herunter"
   ]
  },
  {
   "cell_type": "code",
   "execution_count": 2,
   "metadata": {},
   "outputs": [
    {
     "name": "stderr",
     "output_type": "stream",
     "text": [
      "C:\\Users\\Robert\\AppData\\Roaming\\Python\\Python37\\site-packages\\ipykernel_launcher.py:14: FutureWarning: The error_bad_lines argument has been deprecated and will be removed in a future version.\n",
      "\n",
      "\n",
      "  \n"
     ]
    }
   ],
   "source": [
    "#Ini\n",
    "SEASONS = [\"1213\",\"1314\",\"1415\",\"1516\",\"1617\",\"1718\",\"1819\",\"1920\",\"2021\",\"2122\",\"2223\"]\n",
    "#Update\n",
    "SEASONS = [\"2223\"]\n",
    "\n",
    "train_leagues = [\"D1\", \"F1\", \"I1\", \"E0\", \"E1\",\"E2\",\"E3\", \"SP1\", \"D2\", \"F2\", \"SP2\", \"I2\", \"N1\", \"SC0\", \"B1\", \"P1\", \"T1\", \"G1\"]\n",
    "# Iterate through leagues\n",
    "for l in train_leagues:\n",
    "    # create directories\n",
    "    createDirs(l)\n",
    "    # Download seasons for every league\n",
    "    for s in SEASONS:\n",
    "        try:\n",
    "            downloadLeague(liga=l, season = s)\n",
    "        except Exception as e:\n",
    "            print(\"Unexpected error: {e}}\")\n",
    "            print(f'Liga: {l} Season: {s}')\n",
    "            pass"
   ]
  },
  {
   "cell_type": "markdown",
   "metadata": {},
   "source": [
    "Speichere alle Rohdaten in einer Datei\n"
   ]
  },
  {
   "cell_type": "code",
   "execution_count": 3,
   "metadata": {},
   "outputs": [],
   "source": [
    "import os \n",
    "leagues_folder = GLOBALS.DATA_FOLDER+\"/leagues/\"\n",
    "leagues = listdir(leagues_folder)\n",
    "data = pd.DataFrame(columns = list(set(GLOBALS.ATTRIBUTES_MAIN_LEAGUE+GLOBALS.ATTRIBITES_EXTRA_LEAGUE)))\n",
    "import pandas as pd\n",
    "for l in leagues:\n",
    "    if os.path.exists(f\"{leagues_folder}/{l}/season/\"):\n",
    "        seasons = listdir(f\"{leagues_folder}/{l}/season/\")\n",
    "        for s in seasons:\n",
    " \n",
    "            df = pd.read_csv(f\"{leagues_folder}/{l}/season/{s}\",index_col=0)\n",
    "            data = pd.concat([df,data],axis=0)\n",
    "\n",
    "\n",
    "data = data.drop([i for i in data.columns if 'unnamed' in i.lower()],axis=1)\n"
   ]
  },
  {
   "cell_type": "markdown",
   "metadata": {},
   "source": [
    "Speichere Daten einzeln ab für Extra und Main Leagues"
   ]
  },
  {
   "cell_type": "code",
   "execution_count": 4,
   "metadata": {},
   "outputs": [],
   "source": [
    "import pickle\n",
    "\n",
    "# filename_main = GLOBALS.DATA_FOLDER+'raw_database.sav'\n",
    "# pickle.dump(data, open(filename_main, 'wb'))\n",
    "\n",
    "filename_main = GLOBALS.DATA_FOLDER+'main_leagues_database_raw.sav'\n",
    "pickle.dump(data[~data.HomeTeam.isna()][GLOBALS.ATTRIBUTES_MAIN_LEAGUE], open(filename_main, 'wb'))\n",
    "\n",
    "filename_extra = GLOBALS.DATA_FOLDER+'extra_leagues_database_raw.sav'\n",
    "pickle.dump(data[data.HomeTeam.isna()][GLOBALS.ATTRIBITES_EXTRA_LEAGUE], open(filename_extra, 'wb'))"
   ]
  },
  {
   "cell_type": "markdown",
   "metadata": {},
   "source": [
    "Lade Daten ein"
   ]
  },
  {
   "cell_type": "code",
   "execution_count": 5,
   "metadata": {},
   "outputs": [],
   "source": [
    "df = pickle.load(open(filename_main, 'rb'))"
   ]
  },
  {
   "cell_type": "markdown",
   "metadata": {},
   "source": [
    "Restrukturiere die Daten und Mapping"
   ]
  },
  {
   "cell_type": "code",
   "execution_count": null,
   "metadata": {},
   "outputs": [],
   "source": [
    "filename_main = GLOBALS.DATA_FOLDER+'main_leagues_database_raw.sav'\n",
    "\n",
    "def load_team_opponent(filename_main:str):\n",
    "    df = pickle.load(open(filename_main, 'rb'))\n",
    "    mapping = pd.read_csv(GLOBALS.SETTINGS_FOLDER+'mapping_team_opponent.csv',\"\\t\")\n",
    "\n",
    "\n",
    "    map_home = dict()\n",
    "    map_away=dict()\n",
    "    for i in mapping.columns:\n",
    "        if mapping[i][0]!=\"x\":\n",
    "            map_home[i] = mapping[i][0]\n",
    "        if mapping[i][1]!=\"x\":\n",
    "            map_away[i] = mapping[i][1]\n",
    "\n",
    "    df_home = df[[i for i in df.columns if i in  map_home]].rename(map_home,axis=1)\n",
    "    df_home['atHome']=True\n",
    "    #df_home.index = df_home.index+'__home' \n",
    "    df_away = df[[i for i in df.columns if i in  map_away]].rename(map_away,axis=1)\n",
    "    df_away['atHome']=False\n",
    "    #df_away.index = df_away.index+'__away' \n",
    "\n",
    "    df_team_opponent = pd.concat([df_home,df_away],axis=0)\n",
    "    return df_team_opponent"
   ]
  },
  {
   "cell_type": "code",
   "execution_count": null,
   "metadata": {},
   "outputs": [],
   "source": []
  }
 ],
 "metadata": {
  "kernelspec": {
   "display_name": "Python 3.7.3 64-bit",
   "language": "python",
   "name": "python3"
  },
  "language_info": {
   "codemirror_mode": {
    "name": "ipython",
    "version": 3
   },
   "file_extension": ".py",
   "mimetype": "text/x-python",
   "name": "python",
   "nbconvert_exporter": "python",
   "pygments_lexer": "ipython3",
   "version": "3.7.3"
  },
  "orig_nbformat": 4,
  "vscode": {
   "interpreter": {
    "hash": "66a68a27e31420371b4e10fa01710111289cd6836e33b740a73554a2c7583218"
   }
  }
 },
 "nbformat": 4,
 "nbformat_minor": 2
}
