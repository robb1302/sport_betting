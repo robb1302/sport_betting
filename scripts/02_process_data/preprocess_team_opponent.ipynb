{
 "cells": [
  {
   "cell_type": "code",
   "execution_count": 1,
   "metadata": {},
   "outputs": [],
   "source": [
    "import pandas as pd\n",
    "import sys\n",
    "import os\n",
    "from os import listdir\n",
    "os.chdir(\"c:/Users/Robert/Documents/Projekte/dev/sport_betting/\")\n",
    "import config as CONFIG\n",
    "pd.set_option('display.max_columns', 500)\n",
    "\n",
    "from src.features import load_team_opponent\n",
    "from src.features.preprocess import derived_odds,get_bookmaker, get_odd_pred, split_date,add_last_3_scores_column\n",
    "import numpy as np"
   ]
  },
  {
   "cell_type": "markdown",
   "metadata": {},
   "source": [
    "# Lade Daten ein"
   ]
  },
  {
   "cell_type": "markdown",
   "metadata": {},
   "source": [
    "## Team Opponent"
   ]
  },
  {
   "cell_type": "code",
   "execution_count": 2,
   "metadata": {},
   "outputs": [
    {
     "name": "stderr",
     "output_type": "stream",
     "text": [
      "C:\\Users\\Robert\\AppData\\Roaming\\Python\\Python37\\site-packages\\ipykernel_launcher.py:1: FutureWarning: In a future version of pandas all arguments of read_csv except for the argument 'filepath_or_buffer' will be keyword-only\n",
      "  \"\"\"Entry point for launching an IPython kernel.\n"
     ]
    }
   ],
   "source": [
    "df = load_team_opponent(filename_main = CONFIG.DATA_FOLDER_RAW+'main_leagues_database_raw.sav')\n"
   ]
  },
  {
   "cell_type": "code",
   "execution_count": 3,
   "metadata": {},
   "outputs": [
    {
     "data": {
      "text/plain": [
       "4"
      ]
     },
     "execution_count": 3,
     "metadata": {},
     "output_type": "execute_result"
    }
   ],
   "source": [
    "sum(df.B365_Opponent.isna())"
   ]
  },
  {
   "attachments": {},
   "cell_type": "markdown",
   "metadata": {},
   "source": [
    "## Sortiere den Datensatz nach Datum, für die Durchschnittsfelder"
   ]
  },
  {
   "cell_type": "code",
   "execution_count": 4,
   "metadata": {},
   "outputs": [],
   "source": [
    "df = split_date(df)\n",
    "df = df.sort_values(['year','month','day'],ascending=True)\n",
    "df = df.reset_index()\n",
    "df.Date = pd.to_datetime(df.Date)"
   ]
  },
  {
   "cell_type": "code",
   "execution_count": 5,
   "metadata": {},
   "outputs": [],
   "source": [
    "df[\"diff_FTG_against_Opponent\"] = df[\"FTG_Team\"]-df[\"FTG_Opponent\"]\n",
    "df[\"diff_ShotsOnTarget_against_Opponent\"] = df[\"ShotsOnTarget_Team\"]-df[\"ShotsOnTarget_Opponent\"]"
   ]
  },
  {
   "cell_type": "markdown",
   "metadata": {},
   "source": [
    "# Erstelle Zielvariable"
   ]
  },
  {
   "cell_type": "code",
   "execution_count": 6,
   "metadata": {},
   "outputs": [
    {
     "data": {
      "text/plain": [
       "False    8762\n",
       "True     5264\n",
       "Name: Target, dtype: int64"
      ]
     },
     "execution_count": 6,
     "metadata": {},
     "output_type": "execute_result"
    }
   ],
   "source": [
    "df['Target'] = df.FTG_Team>df.FTG_Opponent\n",
    "df['Target'].value_counts()"
   ]
  },
  {
   "cell_type": "markdown",
   "metadata": {},
   "source": [
    "# Features entwicklen"
   ]
  },
  {
   "cell_type": "code",
   "execution_count": 7,
   "metadata": {},
   "outputs": [],
   "source": [
    "standad_attributes = ['Target','atHome','Date','Div']\n",
    "bookmaker_attributes = get_bookmaker(bm = 'BW',df = df)+get_bookmaker(bm='B365',df = df)+get_bookmaker(bm='IW',df = df)\n",
    "bet_on_team = get_bookmaker(bm='Team',df=df[bookmaker_attributes])\n",
    "bet_on_opponent = get_bookmaker(bm='Opponent',df=df[bookmaker_attributes])\n",
    "bet_on_draw = get_bookmaker(bm='Draw',df=df[bookmaker_attributes])\n"
   ]
  },
  {
   "cell_type": "code",
   "execution_count": 8,
   "metadata": {},
   "outputs": [],
   "source": [
    "df_derived_b365 = get_odd_pred(bet=\"B365\",df=df)\n",
    "df_derived_iw = get_odd_pred(bet=\"IW\",df=df)\n",
    "df_derived_bw = get_odd_pred(bet=\"BW\",df=df)\n"
   ]
  },
  {
   "cell_type": "code",
   "execution_count": 9,
   "metadata": {},
   "outputs": [],
   "source": [
    "df_derived_team = derived_odds(sight = 'Team',df=df, odds=bet_on_team)\n",
    "df_derived_opponent = derived_odds(sight = 'Opponent',df=df, odds=bet_on_opponent)\n",
    "df_derived_draw = derived_odds(sight = 'Draw',df=df, odds=bet_on_draw)\n"
   ]
  },
  {
   "cell_type": "code",
   "execution_count": 10,
   "metadata": {},
   "outputs": [],
   "source": [
    "# df = add_last_3_scores_column(df = df, score_column=\"diff_FTG_against_Opponent\",anz_games=4)\n",
    "# df = add_last_3_scores_column(df = df, score_column=\"diff_ShotsOnTarget_against_Opponent\",anz_games=4)\n",
    "# df = add_last_3_scores_column(df = df, score_column=\"B365_Team\",anz_games=4)\n",
    "# df = add_last_3_scores_column(df = df, score_column=\"B365_Opponent\",anz_games=4)\n",
    "# df = df.dropna()\n",
    "# rolling_mean_attributes = [c for c in  df.columns if 'last' in c]"
   ]
  },
  {
   "cell_type": "markdown",
   "metadata": {},
   "source": [
    "# Modelldatensatz erstellen"
   ]
  },
  {
   "cell_type": "code",
   "execution_count": 11,
   "metadata": {},
   "outputs": [],
   "source": [
    "model_data = pd.concat([df[standad_attributes],\n",
    "                        #df[rolling_mean_attributes],\n",
    "                        df[bookmaker_attributes],\n",
    "                        df[[\"Team\",\"Opponent\",\"month\",\"year\"]],\n",
    "                        df_derived_team,\n",
    "                        df_derived_opponent,\n",
    "                        df_derived_draw,\n",
    "                        df_derived_b365,\n",
    "                        df_derived_iw,\n",
    "                        df_derived_bw],axis=1)"
   ]
  },
  {
   "cell_type": "code",
   "execution_count": 12,
   "metadata": {},
   "outputs": [],
   "source": [
    "model_data.replace([np.inf, -np.inf], np.nan, inplace=True)\n",
    "\n",
    "#model_data = model_data.dropna()"
   ]
  },
  {
   "cell_type": "code",
   "execution_count": 13,
   "metadata": {},
   "outputs": [
    {
     "data": {
      "text/plain": [
       "30"
      ]
     },
     "execution_count": 13,
     "metadata": {},
     "output_type": "execute_result"
    }
   ],
   "source": [
    "df.IW_Team.isna().sum()"
   ]
  },
  {
   "attachments": {},
   "cell_type": "markdown",
   "metadata": {},
   "source": [
    "## Encoding Teams"
   ]
  },
  {
   "cell_type": "code",
   "execution_count": 14,
   "metadata": {},
   "outputs": [],
   "source": [
    "from sklearn import preprocessing\n",
    "le_div = preprocessing.LabelEncoder()\n",
    "le_team = preprocessing.LabelEncoder()\n"
   ]
  },
  {
   "cell_type": "code",
   "execution_count": 15,
   "metadata": {},
   "outputs": [],
   "source": [
    "le_team.fit(list(set(model_data.Team)))\n",
    "model_data.Team = le_team.transform(model_data.Team)\n",
    "model_data.Opponent = le_team.transform(model_data.Opponent)"
   ]
  },
  {
   "cell_type": "code",
   "execution_count": 16,
   "metadata": {},
   "outputs": [],
   "source": [
    "le_div.fit(list(set(model_data.Div)))\n",
    "model_data.Div = le_div.transform(model_data.Div)\n"
   ]
  },
  {
   "cell_type": "markdown",
   "metadata": {},
   "source": [
    "Aufteilen in Training, Test und Validierung"
   ]
  },
  {
   "cell_type": "code",
   "execution_count": 17,
   "metadata": {},
   "outputs": [],
   "source": [
    "model_data.Date = pd.to_datetime(model_data.Date)"
   ]
  },
  {
   "cell_type": "code",
   "execution_count": 18,
   "metadata": {},
   "outputs": [],
   "source": [
    "import datetime\n",
    "datum_1_1_2020 = datetime.datetime(2021, 6, 1)\n",
    "test_data = model_data[model_data.Date>datum_1_1_2020]\n",
    "model_data = model_data[model_data.Date<datum_1_1_2020]\n"
   ]
  },
  {
   "cell_type": "code",
   "execution_count": 19,
   "metadata": {},
   "outputs": [],
   "source": [
    "datum_1_1_2020 = datetime.datetime(2019, 6, 1)\n",
    "model_data_valid = model_data[model_data.Date>datum_1_1_2020]\n",
    "model_data_train = model_data[model_data.Date<datum_1_1_2020]"
   ]
  },
  {
   "cell_type": "code",
   "execution_count": 20,
   "metadata": {},
   "outputs": [
    {
     "data": {
      "text/plain": [
       "9472"
      ]
     },
     "execution_count": 20,
     "metadata": {},
     "output_type": "execute_result"
    }
   ],
   "source": [
    "len(model_data_train)"
   ]
  },
  {
   "cell_type": "code",
   "execution_count": 21,
   "metadata": {},
   "outputs": [],
   "source": [
    "model_data_train.to_csv(CONFIG.DATA_FOLDER_PROCESSED + 'Train/model_data.csv')\n",
    "model_data_valid.to_csv(CONFIG.DATA_FOLDER_PROCESSED + 'Valid/model_data.csv')\n",
    "test_data.to_csv(CONFIG.DATA_FOLDER_PROCESSED + 'Test/model_data.csv')\n"
   ]
  }
 ],
 "metadata": {
  "kernelspec": {
   "display_name": "Python 3.7.3 64-bit",
   "language": "python",
   "name": "python3"
  },
  "language_info": {
   "codemirror_mode": {
    "name": "ipython",
    "version": 3
   },
   "file_extension": ".py",
   "mimetype": "text/x-python",
   "name": "python",
   "nbconvert_exporter": "python",
   "pygments_lexer": "ipython3",
   "version": "3.7.3"
  },
  "orig_nbformat": 4,
  "vscode": {
   "interpreter": {
    "hash": "66a68a27e31420371b4e10fa01710111289cd6836e33b740a73554a2c7583218"
   }
  }
 },
 "nbformat": 4,
 "nbformat_minor": 2
}
