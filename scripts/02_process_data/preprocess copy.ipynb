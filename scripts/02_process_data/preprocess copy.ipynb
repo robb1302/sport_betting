{
 "cells": [
  {
   "cell_type": "code",
   "execution_count": 1,
   "metadata": {},
   "outputs": [],
   "source": [
    "import pandas as pd\n",
    "import sys\n",
    "import os\n",
    "from os import listdir\n",
    "os.chdir(\"c:/Users/Robert/Documents/Projekte/dev/sport_betting/\")\n",
    "import config as CONFIG\n",
    "pd.set_option('display.max_columns', 500)\n",
    "\n",
    "from src.features import load_team_opponent\n",
    "from src.features.preprocess import derived_odds,get_bookmaker, get_odd_pred, split_date,add_last_3_scores_column\n",
    "import numpy as np"
   ]
  },
  {
   "cell_type": "markdown",
   "metadata": {},
   "source": [
    "# Lade Daten ein"
   ]
  },
  {
   "cell_type": "markdown",
   "metadata": {},
   "source": [
    "## Team Opponent"
   ]
  },
  {
   "cell_type": "code",
   "execution_count": 10,
   "metadata": {},
   "outputs": [],
   "source": [
    "from src.utils.utils import load_from_pickle"
   ]
  },
  {
   "cell_type": "code",
   "execution_count": 77,
   "metadata": {},
   "outputs": [],
   "source": [
    "df = load_from_pickle(source_path= CONFIG.DATA_FOLDER_RAW+'raw_database.sav')\n"
   ]
  },
  {
   "cell_type": "code",
   "execution_count": 78,
   "metadata": {},
   "outputs": [],
   "source": [
    "df['Date'] = pd.to_datetime(df['Date'])"
   ]
  },
  {
   "cell_type": "code",
   "execution_count": 79,
   "metadata": {},
   "outputs": [],
   "source": [
    "df = df[~df.B365H.isna() & ~df.IWH.isna()]"
   ]
  },
  {
   "cell_type": "code",
   "execution_count": 152,
   "metadata": {},
   "outputs": [],
   "source": [
    "X = df[[\"HomeTeam\",\"AwayTeam\",\"Div\",\"B365H\",\"B365D\",\"B365A\",\"BWH\",\"BWD\",\"BWA\",\"IWH\",\"IWD\",\"IWA\"]]"
   ]
  },
  {
   "cell_type": "code",
   "execution_count": 180,
   "metadata": {},
   "outputs": [],
   "source": [
    "y = df[[\"B365H\",\"B365D\",\"B365A\",\"FTR\"]]\n",
    "y.columns =[\"H\",\"D\",\"A\",\"R\"]"
   ]
  },
  {
   "cell_type": "code",
   "execution_count": 181,
   "metadata": {},
   "outputs": [
    {
     "name": "stdout",
     "output_type": "stream",
     "text": [
      "       H     D     A\n",
      "0    0.0  2.50  0.00\n",
      "1    0.0  2.20  0.00\n",
      "2    0.0  2.75  0.00\n",
      "3    0.0  2.20  0.00\n",
      "4    1.1  0.00  0.00\n",
      "..   ...   ...   ...\n",
      "235  0.0  2.60  0.00\n",
      "236  1.2  0.00  0.00\n",
      "237  0.0  2.60  0.00\n",
      "238  0.0  0.00  1.55\n",
      "239  0.0  0.00  3.33\n",
      "\n",
      "[6996 rows x 3 columns]\n"
     ]
    }
   ],
   "source": [
    "import pandas as pd\n",
    "\n",
    "def make_y(y_row):\n",
    "    r = y_row[\"R\"]\n",
    "    y_row[r] = y_row[r]-1\n",
    "    results = {'H','D','A'}\n",
    "    y_row[list(results - {r})] = 0\n",
    "    return y_row\n",
    "\n",
    "\n",
    "# apply the make_y function to every row of the DataFrame\n",
    "y= y.apply(lambda x: make_y(x), axis=1)\n",
    "\n",
    "y = y.drop(\"R\",axis=1)\n",
    "# print the updated DataFrame\n",
    "print(y)\n"
   ]
  },
  {
   "cell_type": "code",
   "execution_count": 186,
   "metadata": {},
   "outputs": [
    {
     "name": "stdout",
     "output_type": "stream",
     "text": [
      "269    1.0\n",
      "262    1.0\n",
      "213    1.0\n",
      "265    1.0\n",
      "143    1.0\n",
      "      ... \n",
      "204    1.0\n",
      "179    1.0\n",
      "49     1.0\n",
      "31     1.0\n",
      "12     1.0\n",
      "Length: 1749, dtype: float64\n"
     ]
    }
   ],
   "source": [
    "import numpy as np\n",
    "\n",
    "def set_max_row(arr):\n",
    "    \"\"\"\n",
    "    Sets the maximum value in each row of a numpy array to 1 and all other values to 0.\n",
    "    \"\"\"\n",
    "    # Find indices of maximum values in each row\n",
    "    max_indices = np.argmax(arr, axis=1)\n",
    "\n",
    "    # Set all values to 0 except for the maximum value in each row\n",
    "    for i in range(arr.shape[0]):\n",
    "        max_index = max_indices[i]\n",
    "        arr[i, :] = 0\n",
    "        arr[i, max_index] = 1\n",
    "\n",
    "    return arr\n",
    "\n",
    "wins = y_test.sum(axis=1)\n",
    "output = (set_max_row(y_test.values)*set_max_row(preds)).sum(axis= 1)*wins\n",
    "print(wins)"
   ]
  },
  {
   "cell_type": "code",
   "execution_count": 191,
   "metadata": {},
   "outputs": [
    {
     "data": {
      "text/html": [
       "<div>\n",
       "<style scoped>\n",
       "    .dataframe tbody tr th:only-of-type {\n",
       "        vertical-align: middle;\n",
       "    }\n",
       "\n",
       "    .dataframe tbody tr th {\n",
       "        vertical-align: top;\n",
       "    }\n",
       "\n",
       "    .dataframe thead th {\n",
       "        text-align: right;\n",
       "    }\n",
       "</style>\n",
       "<table border=\"1\" class=\"dataframe\">\n",
       "  <thead>\n",
       "    <tr style=\"text-align: right;\">\n",
       "      <th></th>\n",
       "      <th>H</th>\n",
       "      <th>D</th>\n",
       "      <th>A</th>\n",
       "    </tr>\n",
       "  </thead>\n",
       "  <tbody>\n",
       "    <tr>\n",
       "      <th>269</th>\n",
       "      <td>1.0</td>\n",
       "      <td>0.0</td>\n",
       "      <td>0.0</td>\n",
       "    </tr>\n",
       "    <tr>\n",
       "      <th>262</th>\n",
       "      <td>0.0</td>\n",
       "      <td>1.0</td>\n",
       "      <td>0.0</td>\n",
       "    </tr>\n",
       "    <tr>\n",
       "      <th>213</th>\n",
       "      <td>1.0</td>\n",
       "      <td>0.0</td>\n",
       "      <td>0.0</td>\n",
       "    </tr>\n",
       "    <tr>\n",
       "      <th>265</th>\n",
       "      <td>1.0</td>\n",
       "      <td>0.0</td>\n",
       "      <td>0.0</td>\n",
       "    </tr>\n",
       "    <tr>\n",
       "      <th>143</th>\n",
       "      <td>1.0</td>\n",
       "      <td>0.0</td>\n",
       "      <td>0.0</td>\n",
       "    </tr>\n",
       "    <tr>\n",
       "      <th>...</th>\n",
       "      <td>...</td>\n",
       "      <td>...</td>\n",
       "      <td>...</td>\n",
       "    </tr>\n",
       "    <tr>\n",
       "      <th>204</th>\n",
       "      <td>1.0</td>\n",
       "      <td>0.0</td>\n",
       "      <td>0.0</td>\n",
       "    </tr>\n",
       "    <tr>\n",
       "      <th>179</th>\n",
       "      <td>0.0</td>\n",
       "      <td>0.0</td>\n",
       "      <td>1.0</td>\n",
       "    </tr>\n",
       "    <tr>\n",
       "      <th>49</th>\n",
       "      <td>0.0</td>\n",
       "      <td>1.0</td>\n",
       "      <td>0.0</td>\n",
       "    </tr>\n",
       "    <tr>\n",
       "      <th>31</th>\n",
       "      <td>1.0</td>\n",
       "      <td>0.0</td>\n",
       "      <td>0.0</td>\n",
       "    </tr>\n",
       "    <tr>\n",
       "      <th>12</th>\n",
       "      <td>1.0</td>\n",
       "      <td>0.0</td>\n",
       "      <td>0.0</td>\n",
       "    </tr>\n",
       "  </tbody>\n",
       "</table>\n",
       "<p>1749 rows × 3 columns</p>\n",
       "</div>"
      ],
      "text/plain": [
       "       H    D    A\n",
       "269  1.0  0.0  0.0\n",
       "262  0.0  1.0  0.0\n",
       "213  1.0  0.0  0.0\n",
       "265  1.0  0.0  0.0\n",
       "143  1.0  0.0  0.0\n",
       "..   ...  ...  ...\n",
       "204  1.0  0.0  0.0\n",
       "179  0.0  0.0  1.0\n",
       "49   0.0  1.0  0.0\n",
       "31   1.0  0.0  0.0\n",
       "12   1.0  0.0  0.0\n",
       "\n",
       "[1749 rows x 3 columns]"
      ]
     },
     "execution_count": 191,
     "metadata": {},
     "output_type": "execute_result"
    }
   ],
   "source": [
    "y_test"
   ]
  },
  {
   "cell_type": "code",
   "execution_count": 190,
   "metadata": {},
   "outputs": [
    {
     "data": {
      "text/plain": [
       "array([[0., 0., 1.],\n",
       "       [0., 1., 0.],\n",
       "       [0., 0., 1.],\n",
       "       ...,\n",
       "       [0., 0., 1.],\n",
       "       [0., 1., 0.],\n",
       "       [0., 1., 0.]], dtype=float32)"
      ]
     },
     "execution_count": 190,
     "metadata": {},
     "output_type": "execute_result"
    }
   ],
   "source": [
    "set_max_row(model.predict(X_test.values))"
   ]
  },
  {
   "cell_type": "code",
   "execution_count": 192,
   "metadata": {},
   "outputs": [
    {
     "data": {
      "text/html": [
       "<div>\n",
       "<style scoped>\n",
       "    .dataframe tbody tr th:only-of-type {\n",
       "        vertical-align: middle;\n",
       "    }\n",
       "\n",
       "    .dataframe tbody tr th {\n",
       "        vertical-align: top;\n",
       "    }\n",
       "\n",
       "    .dataframe thead th {\n",
       "        text-align: right;\n",
       "    }\n",
       "</style>\n",
       "<table border=\"1\" class=\"dataframe\">\n",
       "  <thead>\n",
       "    <tr style=\"text-align: right;\">\n",
       "      <th></th>\n",
       "      <th>H</th>\n",
       "      <th>D</th>\n",
       "      <th>A</th>\n",
       "    </tr>\n",
       "  </thead>\n",
       "  <tbody>\n",
       "    <tr>\n",
       "      <th>0</th>\n",
       "      <td>0.0</td>\n",
       "      <td>2.50</td>\n",
       "      <td>0.00</td>\n",
       "    </tr>\n",
       "    <tr>\n",
       "      <th>1</th>\n",
       "      <td>0.0</td>\n",
       "      <td>2.20</td>\n",
       "      <td>0.00</td>\n",
       "    </tr>\n",
       "    <tr>\n",
       "      <th>2</th>\n",
       "      <td>0.0</td>\n",
       "      <td>2.75</td>\n",
       "      <td>0.00</td>\n",
       "    </tr>\n",
       "    <tr>\n",
       "      <th>3</th>\n",
       "      <td>0.0</td>\n",
       "      <td>2.20</td>\n",
       "      <td>0.00</td>\n",
       "    </tr>\n",
       "    <tr>\n",
       "      <th>4</th>\n",
       "      <td>1.1</td>\n",
       "      <td>0.00</td>\n",
       "      <td>0.00</td>\n",
       "    </tr>\n",
       "    <tr>\n",
       "      <th>...</th>\n",
       "      <td>...</td>\n",
       "      <td>...</td>\n",
       "      <td>...</td>\n",
       "    </tr>\n",
       "    <tr>\n",
       "      <th>235</th>\n",
       "      <td>0.0</td>\n",
       "      <td>2.60</td>\n",
       "      <td>0.00</td>\n",
       "    </tr>\n",
       "    <tr>\n",
       "      <th>236</th>\n",
       "      <td>1.2</td>\n",
       "      <td>0.00</td>\n",
       "      <td>0.00</td>\n",
       "    </tr>\n",
       "    <tr>\n",
       "      <th>237</th>\n",
       "      <td>0.0</td>\n",
       "      <td>2.60</td>\n",
       "      <td>0.00</td>\n",
       "    </tr>\n",
       "    <tr>\n",
       "      <th>238</th>\n",
       "      <td>0.0</td>\n",
       "      <td>0.00</td>\n",
       "      <td>1.55</td>\n",
       "    </tr>\n",
       "    <tr>\n",
       "      <th>239</th>\n",
       "      <td>0.0</td>\n",
       "      <td>0.00</td>\n",
       "      <td>3.33</td>\n",
       "    </tr>\n",
       "  </tbody>\n",
       "</table>\n",
       "<p>6996 rows × 3 columns</p>\n",
       "</div>"
      ],
      "text/plain": [
       "       H     D     A\n",
       "0    0.0  2.50  0.00\n",
       "1    0.0  2.20  0.00\n",
       "2    0.0  2.75  0.00\n",
       "3    0.0  2.20  0.00\n",
       "4    1.1  0.00  0.00\n",
       "..   ...   ...   ...\n",
       "235  0.0  2.60  0.00\n",
       "236  1.2  0.00  0.00\n",
       "237  0.0  2.60  0.00\n",
       "238  0.0  0.00  1.55\n",
       "239  0.0  0.00  3.33\n",
       "\n",
       "[6996 rows x 3 columns]"
      ]
     },
     "execution_count": 192,
     "metadata": {},
     "output_type": "execute_result"
    }
   ],
   "source": [
    "y"
   ]
  },
  {
   "cell_type": "code",
   "execution_count": 172,
   "metadata": {},
   "outputs": [
    {
     "data": {
      "text/plain": [
       "0.06450543167524296"
      ]
     },
     "execution_count": 172,
     "metadata": {},
     "output_type": "execute_result"
    }
   ],
   "source": [
    "(output.sum()-sum(output == 0))/len(output)"
   ]
  },
  {
   "cell_type": "code",
   "execution_count": 149,
   "metadata": {},
   "outputs": [
    {
     "data": {
      "text/plain": [
       "0       0.0\n",
       "0       0.0\n",
       "0       0.0\n",
       "0       0.0\n",
       "0       0.0\n",
       "       ... \n",
       "6991    NaN\n",
       "6992    NaN\n",
       "6993    NaN\n",
       "6994    NaN\n",
       "6995    NaN\n",
       "Length: 13686, dtype: float64"
      ]
     },
     "execution_count": 149,
     "metadata": {},
     "output_type": "execute_result"
    }
   ],
   "source": [
    "pd.DataFrame().sum(axis=1)*y.sum(axis=1)"
   ]
  },
  {
   "cell_type": "code",
   "execution_count": 182,
   "metadata": {},
   "outputs": [
    {
     "name": "stderr",
     "output_type": "stream",
     "text": [
      "C:\\Users\\Robert\\AppData\\Roaming\\Python\\Python37\\site-packages\\pytorch_tabnet\\abstract_model.py:75: UserWarning: Device used : cpu\n",
      "  warnings.warn(f\"Device used : {self.device}\")\n",
      "C:\\Users\\Robert\\AppData\\Roaming\\Python\\Python37\\site-packages\\pytorch_tabnet\\abstract_model.py:651: UserWarning: No early stopping will be performed, last training weights will be used.\n",
      "  warnings.warn(wrn_msg)\n"
     ]
    },
    {
     "name": "stdout",
     "output_type": "stream",
     "text": [
      "epoch 0  | loss: 4.63193 |  0:00:00s\n",
      "epoch 1  | loss: 2.48165 |  0:00:01s\n",
      "epoch 2  | loss: 1.96015 |  0:00:02s\n",
      "epoch 3  | loss: 1.8285  |  0:00:02s\n",
      "epoch 4  | loss: 1.65038 |  0:00:03s\n",
      "epoch 5  | loss: 1.68286 |  0:00:04s\n",
      "epoch 6  | loss: 1.59782 |  0:00:05s\n",
      "epoch 7  | loss: 1.52427 |  0:00:06s\n",
      "epoch 8  | loss: 1.50131 |  0:00:06s\n",
      "epoch 9  | loss: 1.50599 |  0:00:07s\n",
      "epoch 10 | loss: 1.49307 |  0:00:08s\n",
      "epoch 11 | loss: 1.46663 |  0:00:09s\n",
      "epoch 12 | loss: 1.46561 |  0:00:10s\n",
      "epoch 13 | loss: 1.42813 |  0:00:11s\n",
      "epoch 14 | loss: 1.44125 |  0:00:12s\n",
      "epoch 15 | loss: 1.44584 |  0:00:13s\n",
      "epoch 16 | loss: 1.43709 |  0:00:14s\n",
      "epoch 17 | loss: 1.43124 |  0:00:14s\n",
      "epoch 18 | loss: 1.42012 |  0:00:15s\n",
      "epoch 19 | loss: 1.43329 |  0:00:16s\n",
      "epoch 20 | loss: 1.44892 |  0:00:17s\n",
      "epoch 21 | loss: 1.44109 |  0:00:18s\n",
      "epoch 22 | loss: 1.4317  |  0:00:19s\n",
      "epoch 23 | loss: 1.41864 |  0:00:20s\n",
      "epoch 24 | loss: 1.42015 |  0:00:21s\n",
      "epoch 25 | loss: 1.42635 |  0:00:22s\n",
      "epoch 26 | loss: 1.42874 |  0:00:23s\n",
      "epoch 27 | loss: 1.43226 |  0:00:23s\n",
      "epoch 28 | loss: 1.42594 |  0:00:24s\n",
      "epoch 29 | loss: 1.41992 |  0:00:25s\n",
      "epoch 30 | loss: 1.40651 |  0:00:26s\n",
      "epoch 31 | loss: 1.41923 |  0:00:27s\n",
      "epoch 32 | loss: 1.43308 |  0:00:28s\n",
      "epoch 33 | loss: 1.42607 |  0:00:29s\n",
      "epoch 34 | loss: 1.43438 |  0:00:30s\n",
      "epoch 35 | loss: 1.42835 |  0:00:31s\n",
      "epoch 36 | loss: 1.41816 |  0:00:31s\n",
      "epoch 37 | loss: 1.42116 |  0:00:32s\n",
      "epoch 38 | loss: 1.40931 |  0:00:33s\n",
      "epoch 39 | loss: 1.42308 |  0:00:34s\n",
      "epoch 40 | loss: 1.40444 |  0:00:35s\n",
      "epoch 41 | loss: 1.4172  |  0:00:36s\n",
      "epoch 42 | loss: 1.41365 |  0:00:37s\n",
      "epoch 43 | loss: 1.41663 |  0:00:37s\n",
      "epoch 44 | loss: 1.3986  |  0:00:38s\n",
      "epoch 45 | loss: 1.4324  |  0:00:39s\n",
      "epoch 46 | loss: 1.42372 |  0:00:40s\n",
      "epoch 47 | loss: 1.42742 |  0:00:41s\n",
      "epoch 48 | loss: 1.42648 |  0:00:42s\n",
      "epoch 49 | loss: 1.41981 |  0:00:42s\n",
      "epoch 50 | loss: 1.42378 |  0:00:43s\n",
      "epoch 51 | loss: 1.41285 |  0:00:44s\n",
      "epoch 52 | loss: 1.41936 |  0:00:45s\n",
      "epoch 53 | loss: 1.40906 |  0:00:46s\n",
      "epoch 54 | loss: 1.43165 |  0:00:47s\n",
      "epoch 55 | loss: 1.4139  |  0:00:48s\n",
      "epoch 56 | loss: 1.42834 |  0:00:49s\n",
      "epoch 57 | loss: 1.42757 |  0:00:49s\n",
      "epoch 58 | loss: 1.42466 |  0:00:50s\n",
      "epoch 59 | loss: 1.41283 |  0:00:51s\n",
      "epoch 60 | loss: 1.42363 |  0:00:52s\n",
      "epoch 61 | loss: 1.42268 |  0:00:53s\n",
      "epoch 62 | loss: 1.41452 |  0:00:54s\n",
      "epoch 63 | loss: 1.41658 |  0:00:55s\n",
      "epoch 64 | loss: 1.40308 |  0:00:56s\n",
      "epoch 65 | loss: 1.41779 |  0:00:57s\n",
      "epoch 66 | loss: 1.41602 |  0:00:57s\n",
      "epoch 67 | loss: 1.41752 |  0:00:58s\n",
      "epoch 68 | loss: 1.40828 |  0:00:59s\n",
      "epoch 69 | loss: 1.41823 |  0:01:00s\n",
      "epoch 70 | loss: 1.41778 |  0:01:01s\n",
      "epoch 71 | loss: 1.38739 |  0:01:02s\n",
      "epoch 72 | loss: 1.40124 |  0:01:02s\n",
      "epoch 73 | loss: 1.41843 |  0:01:04s\n",
      "epoch 74 | loss: 1.38186 |  0:01:04s\n",
      "epoch 75 | loss: 1.42408 |  0:01:05s\n",
      "epoch 76 | loss: 1.41698 |  0:01:06s\n",
      "epoch 77 | loss: 1.40986 |  0:01:07s\n",
      "epoch 78 | loss: 1.41204 |  0:01:08s\n",
      "epoch 79 | loss: 1.4185  |  0:01:09s\n",
      "epoch 80 | loss: 1.42085 |  0:01:09s\n",
      "epoch 81 | loss: 1.40205 |  0:01:10s\n",
      "epoch 82 | loss: 1.41469 |  0:01:12s\n",
      "epoch 83 | loss: 1.41083 |  0:01:13s\n",
      "epoch 84 | loss: 1.41634 |  0:01:14s\n",
      "epoch 85 | loss: 1.41781 |  0:01:15s\n",
      "epoch 86 | loss: 1.41814 |  0:01:16s\n",
      "epoch 87 | loss: 1.4253  |  0:01:17s\n",
      "epoch 88 | loss: 1.40742 |  0:01:18s\n",
      "epoch 89 | loss: 1.42203 |  0:01:19s\n",
      "epoch 90 | loss: 1.41996 |  0:01:20s\n",
      "epoch 91 | loss: 1.42648 |  0:01:21s\n",
      "epoch 92 | loss: 1.41669 |  0:01:22s\n",
      "epoch 93 | loss: 1.42369 |  0:01:23s\n",
      "epoch 94 | loss: 1.42174 |  0:01:24s\n",
      "epoch 95 | loss: 1.41985 |  0:01:25s\n",
      "epoch 96 | loss: 1.42402 |  0:01:26s\n",
      "epoch 97 | loss: 1.41576 |  0:01:27s\n",
      "epoch 98 | loss: 1.41258 |  0:01:27s\n",
      "epoch 99 | loss: 1.39695 |  0:01:28s\n"
     ]
    }
   ],
   "source": [
    "import numpy as np\n",
    "import pandas as pd\n",
    "from sklearn.preprocessing import LabelEncoder\n",
    "from pytorch_tabnet.tab_model import TabNetRegressor\n",
    "import torch\n",
    "\n",
    "# Load dataset\n",
    "\n",
    "# Convert categorical variables to numerical labels\n",
    "le = LabelEncoder()\n",
    "for col in X.columns:\n",
    "    if X[col].dtype == 'object':\n",
    "        X[col] = le.fit_transform(X[col])\n",
    "\n",
    "from sklearn.model_selection import train_test_split\n",
    "\n",
    "X_train, X_test, y_train, y_test = train_test_split(X, y,random_state=42)\n",
    "\n",
    "# Define TabNet model\n",
    "model = TabNetRegressor(n_d=32, n_a=32, n_steps=5, gamma=1.3, lambda_sparse=0, optimizer_fn=torch.optim.Adam)\n",
    "\n",
    "# Train model\n",
    "model.fit(X_train.values, y_train.values, max_epochs=100, patience=10, batch_size=1024)\n",
    "\n",
    "# Make predictions\n",
    "preds = model.predict(X_test.values)\n"
   ]
  },
  {
   "cell_type": "code",
   "execution_count": null,
   "metadata": {},
   "outputs": [],
   "source": [
    "class Precision(Metric):\n",
    "    def __init__(self):\n",
    "        self._name = \"precision\"\n",
    "        self._maximize = True\n",
    "\n",
    "    def __call__(self, y_true, y_pred):\n",
    "        max(y_true)\n",
    "        return precision"
   ]
  },
  {
   "cell_type": "code",
   "execution_count": 183,
   "metadata": {},
   "outputs": [
    {
     "data": {
      "text/html": [
       "<div>\n",
       "<style scoped>\n",
       "    .dataframe tbody tr th:only-of-type {\n",
       "        vertical-align: middle;\n",
       "    }\n",
       "\n",
       "    .dataframe tbody tr th {\n",
       "        vertical-align: top;\n",
       "    }\n",
       "\n",
       "    .dataframe thead th {\n",
       "        text-align: right;\n",
       "    }\n",
       "</style>\n",
       "<table border=\"1\" class=\"dataframe\">\n",
       "  <thead>\n",
       "    <tr style=\"text-align: right;\">\n",
       "      <th></th>\n",
       "      <th>H</th>\n",
       "      <th>D</th>\n",
       "      <th>A</th>\n",
       "    </tr>\n",
       "  </thead>\n",
       "  <tbody>\n",
       "    <tr>\n",
       "      <th>269</th>\n",
       "      <td>0.67</td>\n",
       "      <td>0.0</td>\n",
       "      <td>0.0</td>\n",
       "    </tr>\n",
       "    <tr>\n",
       "      <th>262</th>\n",
       "      <td>0.00</td>\n",
       "      <td>6.0</td>\n",
       "      <td>0.0</td>\n",
       "    </tr>\n",
       "    <tr>\n",
       "      <th>213</th>\n",
       "      <td>0.36</td>\n",
       "      <td>0.0</td>\n",
       "      <td>0.0</td>\n",
       "    </tr>\n",
       "    <tr>\n",
       "      <th>265</th>\n",
       "      <td>0.75</td>\n",
       "      <td>0.0</td>\n",
       "      <td>0.0</td>\n",
       "    </tr>\n",
       "    <tr>\n",
       "      <th>143</th>\n",
       "      <td>0.55</td>\n",
       "      <td>0.0</td>\n",
       "      <td>0.0</td>\n",
       "    </tr>\n",
       "    <tr>\n",
       "      <th>...</th>\n",
       "      <td>...</td>\n",
       "      <td>...</td>\n",
       "      <td>...</td>\n",
       "    </tr>\n",
       "    <tr>\n",
       "      <th>204</th>\n",
       "      <td>0.72</td>\n",
       "      <td>0.0</td>\n",
       "      <td>0.0</td>\n",
       "    </tr>\n",
       "    <tr>\n",
       "      <th>179</th>\n",
       "      <td>0.00</td>\n",
       "      <td>0.0</td>\n",
       "      <td>3.0</td>\n",
       "    </tr>\n",
       "    <tr>\n",
       "      <th>49</th>\n",
       "      <td>0.00</td>\n",
       "      <td>2.5</td>\n",
       "      <td>0.0</td>\n",
       "    </tr>\n",
       "    <tr>\n",
       "      <th>31</th>\n",
       "      <td>1.30</td>\n",
       "      <td>0.0</td>\n",
       "      <td>0.0</td>\n",
       "    </tr>\n",
       "    <tr>\n",
       "      <th>12</th>\n",
       "      <td>1.88</td>\n",
       "      <td>0.0</td>\n",
       "      <td>0.0</td>\n",
       "    </tr>\n",
       "  </tbody>\n",
       "</table>\n",
       "<p>1749 rows × 3 columns</p>\n",
       "</div>"
      ],
      "text/plain": [
       "        H    D    A\n",
       "269  0.67  0.0  0.0\n",
       "262  0.00  6.0  0.0\n",
       "213  0.36  0.0  0.0\n",
       "265  0.75  0.0  0.0\n",
       "143  0.55  0.0  0.0\n",
       "..    ...  ...  ...\n",
       "204  0.72  0.0  0.0\n",
       "179  0.00  0.0  3.0\n",
       "49   0.00  2.5  0.0\n",
       "31   1.30  0.0  0.0\n",
       "12   1.88  0.0  0.0\n",
       "\n",
       "[1749 rows x 3 columns]"
      ]
     },
     "execution_count": 183,
     "metadata": {},
     "output_type": "execute_result"
    }
   ],
   "source": [
    "y_test"
   ]
  },
  {
   "cell_type": "code",
   "execution_count": 184,
   "metadata": {},
   "outputs": [
    {
     "data": {
      "text/plain": [
       "HomeTeam    0.072786\n",
       "AwayTeam    0.129462\n",
       "Div         0.154044\n",
       "B365H       0.041293\n",
       "B365D       0.016655\n",
       "B365A       0.062869\n",
       "BWH         0.145439\n",
       "BWD         0.101780\n",
       "BWA         0.130276\n",
       "IWH         0.020557\n",
       "IWD         0.050760\n",
       "IWA         0.074078\n",
       "dtype: float64"
      ]
     },
     "execution_count": 184,
     "metadata": {},
     "output_type": "execute_result"
    }
   ],
   "source": [
    "pd.Series(model.feature_importances_,index=X.columns)"
   ]
  },
  {
   "cell_type": "code",
   "execution_count": 118,
   "metadata": {},
   "outputs": [],
   "source": [
    "import pandas as pd\n",
    "import numpy as np\n",
    "\n",
    "def set_max_row(df):\n",
    "    \"\"\"\n",
    "    Sets everything but the maximum value in each row of a pandas dataframe to 0.\n",
    "    \"\"\"\n",
    "    # Convert dataframe to numpy array\n",
    "    arr = df.values\n",
    "\n",
    "    # Find indices of maximum values in each row\n",
    "    max_indices = np.argmax(arr, axis=1)\n",
    "\n",
    "    # Set all values before the maximum to 0\n",
    "    for i in range(arr.shape[0]):\n",
    "        max_index = max_indices[i]\n",
    "        arr[i, :max_index] = 0\n",
    "\n",
    "    # Set all values after the maximum to 0\n",
    "    for i in range(arr.shape[0]):\n",
    "        max_index = max_indices[i]\n",
    "        arr[i, max_index+1:] = 0\n",
    "\n",
    "    # Convert back to pandas dataframe\n",
    "    result_df = pd.DataFrame(arr, columns=df.columns, index=df.index)\n",
    "\n",
    "    return result_df\n"
   ]
  },
  {
   "cell_type": "code",
   "execution_count": 4,
   "metadata": {},
   "outputs": [
    {
     "data": {
      "text/plain": [
       "4"
      ]
     },
     "execution_count": 4,
     "metadata": {},
     "output_type": "execute_result"
    }
   ],
   "source": [
    "sum(df.B365_Opponent.isna())"
   ]
  },
  {
   "attachments": {},
   "cell_type": "markdown",
   "metadata": {},
   "source": [
    "## Sortiere den Datensatz nach Datum, für die Durchschnittsfelder"
   ]
  },
  {
   "cell_type": "code",
   "execution_count": 5,
   "metadata": {},
   "outputs": [],
   "source": [
    "df = split_date(df)\n",
    "df = df.sort_values(['year','month','day'],ascending=True)\n",
    "df = df.reset_index()\n",
    "df.Date = pd.to_datetime(df.Date)"
   ]
  },
  {
   "cell_type": "code",
   "execution_count": 5,
   "metadata": {},
   "outputs": [],
   "source": [
    "df[\"diff_FTG_against_Opponent\"] = df[\"FTG_Team\"]-df[\"FTG_Opponent\"]\n",
    "df[\"diff_ShotsOnTarget_against_Opponent\"] = df[\"ShotsOnTarget_Team\"]-df[\"ShotsOnTarget_Opponent\"]"
   ]
  },
  {
   "cell_type": "markdown",
   "metadata": {},
   "source": [
    "# Erstelle Zielvariable"
   ]
  },
  {
   "cell_type": "code",
   "execution_count": 6,
   "metadata": {},
   "outputs": [
    {
     "data": {
      "text/plain": [
       "False    8762\n",
       "True     5264\n",
       "Name: Target, dtype: int64"
      ]
     },
     "execution_count": 6,
     "metadata": {},
     "output_type": "execute_result"
    }
   ],
   "source": [
    "df['Target'] = df.FTG_Team>df.FTG_Opponent\n",
    "df['Target'].value_counts()"
   ]
  },
  {
   "cell_type": "markdown",
   "metadata": {},
   "source": [
    "# Features entwicklen"
   ]
  },
  {
   "cell_type": "code",
   "execution_count": 7,
   "metadata": {},
   "outputs": [],
   "source": [
    "standad_attributes = ['Target','atHome','Date','Div']\n",
    "bookmaker_attributes = get_bookmaker(bm = 'BW',df = df)+get_bookmaker(bm='B365',df = df)+get_bookmaker(bm='IW',df = df)\n",
    "bet_on_team = get_bookmaker(bm='Team',df=df[bookmaker_attributes])\n",
    "bet_on_opponent = get_bookmaker(bm='Opponent',df=df[bookmaker_attributes])\n",
    "bet_on_draw = get_bookmaker(bm='Draw',df=df[bookmaker_attributes])\n"
   ]
  },
  {
   "cell_type": "code",
   "execution_count": 8,
   "metadata": {},
   "outputs": [],
   "source": [
    "df_derived_b365 = get_odd_pred(bet=\"B365\",df=df)\n",
    "df_derived_iw = get_odd_pred(bet=\"IW\",df=df)\n",
    "df_derived_bw = get_odd_pred(bet=\"BW\",df=df)\n"
   ]
  },
  {
   "cell_type": "code",
   "execution_count": 9,
   "metadata": {},
   "outputs": [],
   "source": [
    "df_derived_team = derived_odds(sight = 'Team',df=df, odds=bet_on_team)\n",
    "df_derived_opponent = derived_odds(sight = 'Opponent',df=df, odds=bet_on_opponent)\n",
    "df_derived_draw = derived_odds(sight = 'Draw',df=df, odds=bet_on_draw)\n"
   ]
  },
  {
   "cell_type": "code",
   "execution_count": 10,
   "metadata": {},
   "outputs": [],
   "source": [
    "# df = add_last_3_scores_column(df = df, score_column=\"diff_FTG_against_Opponent\",anz_games=4)\n",
    "# df = add_last_3_scores_column(df = df, score_column=\"diff_ShotsOnTarget_against_Opponent\",anz_games=4)\n",
    "# df = add_last_3_scores_column(df = df, score_column=\"B365_Team\",anz_games=4)\n",
    "# df = add_last_3_scores_column(df = df, score_column=\"B365_Opponent\",anz_games=4)\n",
    "# df = df.dropna()\n",
    "# rolling_mean_attributes = [c for c in  df.columns if 'last' in c]"
   ]
  },
  {
   "cell_type": "markdown",
   "metadata": {},
   "source": [
    "# Modelldatensatz erstellen"
   ]
  },
  {
   "cell_type": "code",
   "execution_count": 11,
   "metadata": {},
   "outputs": [],
   "source": [
    "model_data = pd.concat([df[standad_attributes],\n",
    "                        #df[rolling_mean_attributes],\n",
    "                        df[bookmaker_attributes],\n",
    "                        df[[\"Team\",\"Opponent\",\"month\",\"year\"]],\n",
    "                        df_derived_team,\n",
    "                        df_derived_opponent,\n",
    "                        df_derived_draw,\n",
    "                        df_derived_b365,\n",
    "                        df_derived_iw,\n",
    "                        df_derived_bw],axis=1)"
   ]
  },
  {
   "cell_type": "code",
   "execution_count": 12,
   "metadata": {},
   "outputs": [],
   "source": [
    "model_data.replace([np.inf, -np.inf], np.nan, inplace=True)\n",
    "\n",
    "#model_data = model_data.dropna()"
   ]
  },
  {
   "cell_type": "code",
   "execution_count": 13,
   "metadata": {},
   "outputs": [
    {
     "data": {
      "text/plain": [
       "30"
      ]
     },
     "execution_count": 13,
     "metadata": {},
     "output_type": "execute_result"
    }
   ],
   "source": [
    "df.IW_Team.isna().sum()"
   ]
  },
  {
   "attachments": {},
   "cell_type": "markdown",
   "metadata": {},
   "source": [
    "## Encoding Teams"
   ]
  },
  {
   "cell_type": "code",
   "execution_count": 14,
   "metadata": {},
   "outputs": [],
   "source": [
    "from sklearn import preprocessing\n",
    "le_div = preprocessing.LabelEncoder()\n",
    "le_team = preprocessing.LabelEncoder()\n"
   ]
  },
  {
   "cell_type": "code",
   "execution_count": 15,
   "metadata": {},
   "outputs": [],
   "source": [
    "le_team.fit(list(set(model_data.Team)))\n",
    "model_data.Team = le_team.transform(model_data.Team)\n",
    "model_data.Opponent = le_team.transform(model_data.Opponent)"
   ]
  },
  {
   "cell_type": "code",
   "execution_count": 16,
   "metadata": {},
   "outputs": [],
   "source": [
    "le_div.fit(list(set(model_data.Div)))\n",
    "model_data.Div = le_div.transform(model_data.Div)\n"
   ]
  },
  {
   "cell_type": "markdown",
   "metadata": {},
   "source": [
    "Aufteilen in Training, Test und Validierung"
   ]
  },
  {
   "cell_type": "code",
   "execution_count": 17,
   "metadata": {},
   "outputs": [],
   "source": [
    "model_data.Date = pd.to_datetime(model_data.Date)"
   ]
  },
  {
   "cell_type": "code",
   "execution_count": 18,
   "metadata": {},
   "outputs": [],
   "source": [
    "import datetime\n",
    "datum_1_1_2020 = datetime.datetime(2021, 6, 1)\n",
    "test_data = model_data[model_data.Date>datum_1_1_2020]\n",
    "model_data = model_data[model_data.Date<datum_1_1_2020]\n"
   ]
  },
  {
   "cell_type": "code",
   "execution_count": 19,
   "metadata": {},
   "outputs": [],
   "source": [
    "datum_1_1_2020 = datetime.datetime(2019, 6, 1)\n",
    "model_data_valid = model_data[model_data.Date>datum_1_1_2020]\n",
    "model_data_train = model_data[model_data.Date<datum_1_1_2020]"
   ]
  },
  {
   "cell_type": "code",
   "execution_count": 20,
   "metadata": {},
   "outputs": [
    {
     "data": {
      "text/plain": [
       "9472"
      ]
     },
     "execution_count": 20,
     "metadata": {},
     "output_type": "execute_result"
    }
   ],
   "source": [
    "len(model_data_train)"
   ]
  },
  {
   "cell_type": "code",
   "execution_count": 21,
   "metadata": {},
   "outputs": [],
   "source": [
    "model_data_train.to_csv(CONFIG.DATA_FOLDER_PROCESSED + 'Train/model_data.csv')\n",
    "model_data_valid.to_csv(CONFIG.DATA_FOLDER_PROCESSED + 'Valid/model_data.csv')\n",
    "test_data.to_csv(CONFIG.DATA_FOLDER_PROCESSED + 'Test/model_data.csv')\n"
   ]
  }
 ],
 "metadata": {
  "kernelspec": {
   "display_name": "Python 3.7.3 64-bit",
   "language": "python",
   "name": "python3"
  },
  "language_info": {
   "codemirror_mode": {
    "name": "ipython",
    "version": 3
   },
   "file_extension": ".py",
   "mimetype": "text/x-python",
   "name": "python",
   "nbconvert_exporter": "python",
   "pygments_lexer": "ipython3",
   "version": "3.7.3"
  },
  "orig_nbformat": 4,
  "vscode": {
   "interpreter": {
    "hash": "66a68a27e31420371b4e10fa01710111289cd6836e33b740a73554a2c7583218"
   }
  }
 },
 "nbformat": 4,
 "nbformat_minor": 2
}
