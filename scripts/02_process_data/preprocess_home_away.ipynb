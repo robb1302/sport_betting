{
 "cells": [
  {
   "cell_type": "code",
   "execution_count": 1,
   "metadata": {},
   "outputs": [],
   "source": [
    "import pandas as pd\n",
    "import sys\n",
    "import os\n",
    "from os import listdir\n",
    "os.chdir(\"c:/Users/Robert/Documents/Projekte/dev/sport_betting/\")\n",
    "import config as CONFIG\n",
    "pd.set_option('display.max_columns', 500)\n",
    "\n",
    "from src.features import load_team_opponent\n",
    "from src.features.preprocess import derived_odds,get_bookmaker, get_odd_pred_team_opponent, split_date,add_last_3_scores_column\n",
    "import numpy as np"
   ]
  },
  {
   "cell_type": "markdown",
   "metadata": {},
   "source": [
    "# Lade Daten ein"
   ]
  },
  {
   "cell_type": "markdown",
   "metadata": {},
   "source": [
    "## Team Opponent"
   ]
  },
  {
   "cell_type": "code",
   "execution_count": 2,
   "metadata": {},
   "outputs": [],
   "source": [
    "from src.utils.utils import load_from_pickle\n",
    "df = load_from_pickle(source_path= CONFIG.DATA_FOLDER_RAW+'main_leagues_database_raw.sav')\n",
    "df = df[~df.FTR.isna()]"
   ]
  },
  {
   "cell_type": "code",
   "execution_count": 64,
   "metadata": {},
   "outputs": [],
   "source": [
    "bet_attributes = ['IWH','IWD','IWA','BWH','BWD','BWA','B365H','B365D','B365A']\n",
    "df['Date'] = pd.to_datetime(df['Date'])\n",
    "complete_bets =  df[bet_attributes].isna().T.sum()==0\n",
    "df = df[complete_bets] \n",
    "\n",
    "X = df[[\"HomeTeam\",\"AwayTeam\",\"Div\",\"B365H\",\"B365D\",\"B365A\",\"BWH\",\"BWD\",\"BWA\",\"IWH\",\"IWD\",\"IWA\"]]\n",
    "X.head()\n",
    "\n",
    "y = df[[\"B365H\",\"B365D\",\"B365A\",\"FTR\"]]\n",
    "\n",
    "y.columns =[\"H\",\"D\",\"A\",\"R\"]\n",
    "#y = y.reset_index()\n",
    "\n"
   ]
  },
  {
   "cell_type": "code",
   "execution_count": 71,
   "metadata": {},
   "outputs": [],
   "source": [
    "import pandas as pd\n",
    "\n",
    "def make_y(y_row):\n",
    "    r = y_row[\"R\"]\n",
    "    y_row[r] = y_row[r]-1\n",
    "    results = {'H','D','A'}\n",
    "    y_row[list(results - {r})] = 0\n",
    "    return y_row"
   ]
  },
  {
   "cell_type": "code",
   "execution_count": 73,
   "metadata": {},
   "outputs": [
    {
     "data": {
      "text/plain": [
       "H    0\n",
       "D    0\n",
       "A    0\n",
       "R    0\n",
       "dtype: int64"
      ]
     },
     "execution_count": 73,
     "metadata": {},
     "output_type": "execute_result"
    }
   ],
   "source": [
    "y.isna().sum()"
   ]
  },
  {
   "cell_type": "code",
   "execution_count": 74,
   "metadata": {},
   "outputs": [
    {
     "name": "stdout",
     "output_type": "stream",
     "text": [
      "       H    D     A\n",
      "0    0.0  0.0  0.61\n",
      "1    0.0  2.5  0.00\n",
      "2    0.5  0.0  0.00\n",
      "3    0.0  0.0  1.20\n",
      "4    0.0  0.0  1.40\n",
      "..   ...  ...   ...\n",
      "235  0.0  2.6  0.00\n",
      "236  1.2  0.0  0.00\n",
      "237  0.0  2.6  0.00\n",
      "238  0.0  0.0  1.55\n",
      "239  0.0  0.0  3.33\n",
      "\n",
      "[71218 rows x 3 columns]\n"
     ]
    }
   ],
   "source": [
    "# apply the make_y function to every row of the DataFrame\n",
    "y= y.apply(lambda x: make_y(x), axis=1)\n",
    "\n",
    "y = y.drop(\"R\",axis=1)\n",
    "# print the updated DataFrame\n",
    "print(y)\n"
   ]
  },
  {
   "cell_type": "code",
   "execution_count": null,
   "metadata": {},
   "outputs": [],
   "source": []
  },
  {
   "cell_type": "code",
   "execution_count": 75,
   "metadata": {},
   "outputs": [
    {
     "ename": "NameError",
     "evalue": "name 'y_test' is not defined",
     "output_type": "error",
     "traceback": [
      "\u001b[1;31m---------------------------------------------------------------------------\u001b[0m",
      "\u001b[1;31mNameError\u001b[0m                                 Traceback (most recent call last)",
      "\u001b[1;32m~\\AppData\\Local\\Temp\\ipykernel_5556\\92500626.py\u001b[0m in \u001b[0;36m<module>\u001b[1;34m\u001b[0m\n\u001b[0;32m     16\u001b[0m     \u001b[1;32mreturn\u001b[0m \u001b[0marr\u001b[0m\u001b[1;33m\u001b[0m\u001b[1;33m\u001b[0m\u001b[0m\n\u001b[0;32m     17\u001b[0m \u001b[1;33m\u001b[0m\u001b[0m\n\u001b[1;32m---> 18\u001b[1;33m \u001b[0mwins\u001b[0m \u001b[1;33m=\u001b[0m \u001b[0my_test\u001b[0m\u001b[1;33m.\u001b[0m\u001b[0msum\u001b[0m\u001b[1;33m(\u001b[0m\u001b[0maxis\u001b[0m\u001b[1;33m=\u001b[0m\u001b[1;36m1\u001b[0m\u001b[1;33m)\u001b[0m\u001b[1;33m\u001b[0m\u001b[1;33m\u001b[0m\u001b[0m\n\u001b[0m\u001b[0;32m     19\u001b[0m \u001b[0moutput\u001b[0m \u001b[1;33m=\u001b[0m \u001b[1;33m(\u001b[0m\u001b[0mset_max_row\u001b[0m\u001b[1;33m(\u001b[0m\u001b[0my_test\u001b[0m\u001b[1;33m.\u001b[0m\u001b[0mvalues\u001b[0m\u001b[1;33m)\u001b[0m\u001b[1;33m*\u001b[0m\u001b[0mset_max_row\u001b[0m\u001b[1;33m(\u001b[0m\u001b[0mpreds\u001b[0m\u001b[1;33m)\u001b[0m\u001b[1;33m)\u001b[0m\u001b[1;33m.\u001b[0m\u001b[0msum\u001b[0m\u001b[1;33m(\u001b[0m\u001b[0maxis\u001b[0m\u001b[1;33m=\u001b[0m \u001b[1;36m1\u001b[0m\u001b[1;33m)\u001b[0m\u001b[1;33m*\u001b[0m\u001b[0mwins\u001b[0m\u001b[1;33m\u001b[0m\u001b[1;33m\u001b[0m\u001b[0m\n\u001b[0;32m     20\u001b[0m \u001b[0mprint\u001b[0m\u001b[1;33m(\u001b[0m\u001b[0mwins\u001b[0m\u001b[1;33m)\u001b[0m\u001b[1;33m\u001b[0m\u001b[1;33m\u001b[0m\u001b[0m\n",
      "\u001b[1;31mNameError\u001b[0m: name 'y_test' is not defined"
     ]
    }
   ],
   "source": [
    "import numpy as np\n",
    "\n",
    "def set_max_row(arr):\n",
    "    \"\"\"\n",
    "    Sets the maximum value in each row of a numpy array to 1 and all other values to 0.\n",
    "    \"\"\"\n",
    "    # Find indices of maximum values in each row\n",
    "    max_indices = np.argmax(arr, axis=1)\n",
    "\n",
    "    # Set all values to 0 except for the maximum value in each row\n",
    "    for i in range(arr.shape[0]):\n",
    "        max_index = max_indices[i]\n",
    "        arr[i, :] = 0\n",
    "        arr[i, max_index] = 1\n",
    "\n",
    "    return arr\n",
    "\n"
   ]
  },
  {
   "cell_type": "code",
   "execution_count": 82,
   "metadata": {},
   "outputs": [
    {
     "name": "stderr",
     "output_type": "stream",
     "text": [
      "C:\\Users\\Robert\\AppData\\Roaming\\Python\\Python37\\site-packages\\pytorch_tabnet\\abstract_model.py:75: UserWarning: Device used : cpu\n",
      "  warnings.warn(f\"Device used : {self.device}\")\n",
      "C:\\Users\\Robert\\AppData\\Roaming\\Python\\Python37\\site-packages\\pytorch_tabnet\\abstract_model.py:651: UserWarning: No early stopping will be performed, last training weights will be used.\n",
      "  warnings.warn(wrn_msg)\n"
     ]
    },
    {
     "name": "stdout",
     "output_type": "stream",
     "text": [
      "epoch 0  | loss: 2.02339 |  0:00:10s\n",
      "epoch 1  | loss: 1.30232 |  0:00:22s\n",
      "epoch 2  | loss: 1.28201 |  0:00:32s\n",
      "epoch 3  | loss: 1.27658 |  0:00:42s\n",
      "epoch 4  | loss: 1.27505 |  0:00:51s\n"
     ]
    }
   ],
   "source": [
    "import numpy as np\n",
    "import pandas as pd\n",
    "from sklearn.preprocessing import LabelEncoder\n",
    "from pytorch_tabnet.tab_model import TabNetRegressor\n",
    "import torch\n",
    "\n",
    "# Load dataset\n",
    "\n",
    "# Convert categorical variables to numerical labels\n",
    "le = LabelEncoder()\n",
    "for col in X.columns:\n",
    "    if X[col].dtype == 'object':\n",
    "        X[col] = le.fit_transform(X[col])\n",
    "\n",
    "from sklearn.model_selection import train_test_split\n",
    "\n",
    "X_train, X_test, y_train, y_test = train_test_split(X, y,random_state=42)\n",
    "\n",
    "# Define TabNet model\n",
    "model = TabNetRegressor(n_d=32, n_a=32, n_steps=5, gamma=1.3, lambda_sparse=0, optimizer_fn=torch.optim.Adam)\n",
    "\n",
    "# Train model\n",
    "model.fit(X_train.values, y_train.values, max_epochs=5, patience=10, batch_size=1024)\n",
    "\n",
    "# Make predictions\n",
    "preds = model.predict(X_test.values)\n"
   ]
  },
  {
   "cell_type": "code",
   "execution_count": 87,
   "metadata": {},
   "outputs": [],
   "source": [
    "import torch\n",
    "from pytorch_tabnet.metrics import Metric\n",
    "\n",
    "class Precision(Metric):\n",
    "    def __init__(self):\n",
    "        self._name = \"precision\"\n",
    "        self._maximize = True\n",
    "\n",
    "    def __call__(self, y_true, y_pred):\n",
    "        score = max(y_true) - max(y_pred)\n",
    "        return score"
   ]
  },
  {
   "cell_type": "code",
   "execution_count": 90,
   "metadata": {},
   "outputs": [
    {
     "data": {
      "text/plain": [
       "array([[0.5122517 , 0.72616965, 0.6397993 ],\n",
       "       [0.48821676, 0.7725003 , 0.626613  ],\n",
       "       [0.67565805, 0.80637556, 0.45570093],\n",
       "       ...,\n",
       "       [0.36489636, 0.55527186, 0.39439783],\n",
       "       [0.332025  , 0.7137349 , 0.65184796],\n",
       "       [0.46311593, 0.6343225 , 0.61849713]], dtype=float32)"
      ]
     },
     "execution_count": 90,
     "metadata": {},
     "output_type": "execute_result"
    }
   ],
   "source": [
    "preds"
   ]
  },
  {
   "cell_type": "code",
   "execution_count": 91,
   "metadata": {},
   "outputs": [
    {
     "ename": "TypeError",
     "evalue": "__init__() takes 1 positional argument but 3 were given",
     "output_type": "error",
     "traceback": [
      "\u001b[1;31m---------------------------------------------------------------------------\u001b[0m",
      "\u001b[1;31mTypeError\u001b[0m                                 Traceback (most recent call last)",
      "\u001b[1;32m~\\AppData\\Local\\Temp\\ipykernel_5556\\735799954.py\u001b[0m in \u001b[0;36m<module>\u001b[1;34m\u001b[0m\n\u001b[1;32m----> 1\u001b[1;33m \u001b[0mPrecision\u001b[0m\u001b[1;33m(\u001b[0m\u001b[0mpreds\u001b[0m\u001b[1;33m,\u001b[0m \u001b[0my_test\u001b[0m\u001b[1;33m.\u001b[0m\u001b[0mvalues\u001b[0m\u001b[1;33m)\u001b[0m\u001b[1;33m\u001b[0m\u001b[1;33m\u001b[0m\u001b[0m\n\u001b[0m",
      "\u001b[1;31mTypeError\u001b[0m: __init__() takes 1 positional argument but 3 were given"
     ]
    }
   ],
   "source": [
    "Precision(preds, y_test.values)"
   ]
  },
  {
   "cell_type": "code",
   "execution_count": null,
   "metadata": {},
   "outputs": [],
   "source": [
    "wins = y_test.sum(axis=1)\n",
    "output = (set_max_row(y_test.values)*set_max_row(preds)).sum(axis= 1)*wins\n",
    "print(wins)"
   ]
  },
  {
   "cell_type": "code",
   "execution_count": null,
   "metadata": {},
   "outputs": [],
   "source": [
    "pd.Series(model.feature_importances_,index=X.columns)"
   ]
  },
  {
   "cell_type": "code",
   "execution_count": null,
   "metadata": {},
   "outputs": [],
   "source": [
    "import pandas as pd\n",
    "import numpy as np\n",
    "\n",
    "def set_max_row(df):\n",
    "    \"\"\"\n",
    "    Sets everything but the maximum value in each row of a pandas dataframe to 0.\n",
    "    \"\"\"\n",
    "    # Convert dataframe to numpy array\n",
    "    arr = df.values\n",
    "\n",
    "    # Find indices of maximum values in each row\n",
    "    max_indices = np.argmax(arr, axis=1)\n",
    "\n",
    "    # Set all values before the maximum to 0\n",
    "    for i in range(arr.shape[0]):\n",
    "        max_index = max_indices[i]\n",
    "        arr[i, :max_index] = 0\n",
    "\n",
    "    # Set all values after the maximum to 0\n",
    "    for i in range(arr.shape[0]):\n",
    "        max_index = max_indices[i]\n",
    "        arr[i, max_index+1:] = 0\n",
    "\n",
    "    # Convert back to pandas dataframe\n",
    "    result_df = pd.DataFrame(arr, columns=df.columns, index=df.index)\n",
    "\n",
    "    return result_df\n"
   ]
  },
  {
   "cell_type": "code",
   "execution_count": null,
   "metadata": {},
   "outputs": [],
   "source": [
    "sum(df.B365_Opponent.isna())"
   ]
  },
  {
   "attachments": {},
   "cell_type": "markdown",
   "metadata": {},
   "source": [
    "## Sortiere den Datensatz nach Datum, für die Durchschnittsfelder"
   ]
  },
  {
   "cell_type": "code",
   "execution_count": null,
   "metadata": {},
   "outputs": [],
   "source": [
    "df = split_date(df)\n",
    "df = df.sort_values(['year','month','day'],ascending=True)\n",
    "df = df.reset_index()\n",
    "df.Date = pd.to_datetime(df.Date)"
   ]
  },
  {
   "cell_type": "code",
   "execution_count": null,
   "metadata": {},
   "outputs": [],
   "source": [
    "df[\"diff_FTG_against_Opponent\"] = df[\"FTG_Team\"]-df[\"FTG_Opponent\"]\n",
    "df[\"diff_ShotsOnTarget_against_Opponent\"] = df[\"ShotsOnTarget_Team\"]-df[\"ShotsOnTarget_Opponent\"]"
   ]
  },
  {
   "cell_type": "markdown",
   "metadata": {},
   "source": [
    "# Erstelle Zielvariable"
   ]
  },
  {
   "cell_type": "code",
   "execution_count": null,
   "metadata": {},
   "outputs": [],
   "source": [
    "df['Target'] = df.FTG_Team>df.FTG_Opponent\n",
    "df['Target'].value_counts()"
   ]
  },
  {
   "cell_type": "markdown",
   "metadata": {},
   "source": [
    "# Features entwicklen"
   ]
  },
  {
   "cell_type": "code",
   "execution_count": null,
   "metadata": {},
   "outputs": [],
   "source": [
    "standad_attributes = ['Target','atHome','Date','Div']\n",
    "bookmaker_attributes = get_bookmaker(bm = 'BW',df = df)+get_bookmaker(bm='B365',df = df)+get_bookmaker(bm='IW',df = df)\n",
    "bet_on_team = get_bookmaker(bm='Team',df=df[bookmaker_attributes])\n",
    "bet_on_opponent = get_bookmaker(bm='Opponent',df=df[bookmaker_attributes])\n",
    "bet_on_draw = get_bookmaker(bm='Draw',df=df[bookmaker_attributes])\n"
   ]
  },
  {
   "cell_type": "code",
   "execution_count": null,
   "metadata": {},
   "outputs": [],
   "source": [
    "df_derived_b365 = get_odd_pred(bet=\"B365\",df=df)\n",
    "df_derived_iw = get_odd_pred(bet=\"IW\",df=df)\n",
    "df_derived_bw = get_odd_pred(bet=\"BW\",df=df)\n"
   ]
  },
  {
   "cell_type": "code",
   "execution_count": null,
   "metadata": {},
   "outputs": [],
   "source": [
    "df_derived_team = derived_odds(sight = 'Team',df=df, odds=bet_on_team)\n",
    "df_derived_opponent = derived_odds(sight = 'Opponent',df=df, odds=bet_on_opponent)\n",
    "df_derived_draw = derived_odds(sight = 'Draw',df=df, odds=bet_on_draw)\n"
   ]
  },
  {
   "cell_type": "code",
   "execution_count": null,
   "metadata": {},
   "outputs": [],
   "source": [
    "# df = add_last_3_scores_column(df = df, score_column=\"diff_FTG_against_Opponent\",anz_games=4)\n",
    "# df = add_last_3_scores_column(df = df, score_column=\"diff_ShotsOnTarget_against_Opponent\",anz_games=4)\n",
    "# df = add_last_3_scores_column(df = df, score_column=\"B365_Team\",anz_games=4)\n",
    "# df = add_last_3_scores_column(df = df, score_column=\"B365_Opponent\",anz_games=4)\n",
    "# df = df.dropna()\n",
    "# rolling_mean_attributes = [c for c in  df.columns if 'last' in c]"
   ]
  },
  {
   "cell_type": "markdown",
   "metadata": {},
   "source": [
    "# Modelldatensatz erstellen"
   ]
  },
  {
   "cell_type": "code",
   "execution_count": null,
   "metadata": {},
   "outputs": [],
   "source": [
    "model_data = pd.concat([df[standad_attributes],\n",
    "                        #df[rolling_mean_attributes],\n",
    "                        df[bookmaker_attributes],\n",
    "                        df[[\"Team\",\"Opponent\",\"month\",\"year\"]],\n",
    "                        df_derived_team,\n",
    "                        df_derived_opponent,\n",
    "                        df_derived_draw,\n",
    "                        df_derived_b365,\n",
    "                        df_derived_iw,\n",
    "                        df_derived_bw],axis=1)"
   ]
  },
  {
   "cell_type": "code",
   "execution_count": null,
   "metadata": {},
   "outputs": [],
   "source": [
    "model_data.replace([np.inf, -np.inf], np.nan, inplace=True)\n",
    "\n",
    "#model_data = model_data.dropna()"
   ]
  },
  {
   "cell_type": "code",
   "execution_count": null,
   "metadata": {},
   "outputs": [],
   "source": [
    "df.IW_Team.isna().sum()"
   ]
  },
  {
   "attachments": {},
   "cell_type": "markdown",
   "metadata": {},
   "source": [
    "## Encoding Teams"
   ]
  },
  {
   "cell_type": "code",
   "execution_count": null,
   "metadata": {},
   "outputs": [],
   "source": [
    "from sklearn import preprocessing\n",
    "le_div = preprocessing.LabelEncoder()\n",
    "le_team = preprocessing.LabelEncoder()\n"
   ]
  },
  {
   "cell_type": "code",
   "execution_count": null,
   "metadata": {},
   "outputs": [],
   "source": [
    "le_team.fit(list(set(model_data.Team)))\n",
    "model_data.Team = le_team.transform(model_data.Team)\n",
    "model_data.Opponent = le_team.transform(model_data.Opponent)"
   ]
  },
  {
   "cell_type": "code",
   "execution_count": null,
   "metadata": {},
   "outputs": [],
   "source": [
    "le_div.fit(list(set(model_data.Div)))\n",
    "model_data.Div = le_div.transform(model_data.Div)\n"
   ]
  },
  {
   "cell_type": "markdown",
   "metadata": {},
   "source": [
    "Aufteilen in Training, Test und Validierung"
   ]
  },
  {
   "cell_type": "code",
   "execution_count": null,
   "metadata": {},
   "outputs": [],
   "source": [
    "model_data.Date = pd.to_datetime(model_data.Date)"
   ]
  },
  {
   "cell_type": "code",
   "execution_count": null,
   "metadata": {},
   "outputs": [],
   "source": [
    "import datetime\n",
    "datum_1_1_2020 = datetime.datetime(2021, 6, 1)\n",
    "test_data = model_data[model_data.Date>datum_1_1_2020]\n",
    "model_data = model_data[model_data.Date<datum_1_1_2020]\n"
   ]
  },
  {
   "cell_type": "code",
   "execution_count": null,
   "metadata": {},
   "outputs": [],
   "source": [
    "datum_1_1_2020 = datetime.datetime(2019, 6, 1)\n",
    "model_data_valid = model_data[model_data.Date>datum_1_1_2020]\n",
    "model_data_train = model_data[model_data.Date<datum_1_1_2020]"
   ]
  },
  {
   "cell_type": "code",
   "execution_count": null,
   "metadata": {},
   "outputs": [],
   "source": [
    "len(model_data_train)"
   ]
  },
  {
   "cell_type": "code",
   "execution_count": null,
   "metadata": {},
   "outputs": [],
   "source": [
    "model_data_train.to_csv(CONFIG.DATA_FOLDER_PROCESSED + 'Train/model_data.csv')\n",
    "model_data_valid.to_csv(CONFIG.DATA_FOLDER_PROCESSED + 'Valid/model_data.csv')\n",
    "test_data.to_csv(CONFIG.DATA_FOLDER_PROCESSED + 'Test/model_data.csv')\n"
   ]
  }
 ],
 "metadata": {
  "kernelspec": {
   "display_name": "Python 3.7.3 64-bit",
   "language": "python",
   "name": "python3"
  },
  "language_info": {
   "codemirror_mode": {
    "name": "ipython",
    "version": 3
   },
   "file_extension": ".py",
   "mimetype": "text/x-python",
   "name": "python",
   "nbconvert_exporter": "python",
   "pygments_lexer": "ipython3",
   "version": "3.7.3"
  },
  "orig_nbformat": 4,
  "vscode": {
   "interpreter": {
    "hash": "66a68a27e31420371b4e10fa01710111289cd6836e33b740a73554a2c7583218"
   }
  }
 },
 "nbformat": 4,
 "nbformat_minor": 2
}
