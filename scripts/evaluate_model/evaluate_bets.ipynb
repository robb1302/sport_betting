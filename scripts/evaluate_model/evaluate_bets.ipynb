{
 "cells": [
  {
   "cell_type": "code",
   "execution_count": null,
   "metadata": {},
   "outputs": [],
   "source": [
    "match_day\n",
    "bets = match_day.Target[match_day.pred>pred_min]\n",
    "print(np.prod(bets))\n",
    "if np.prod(bets) == 1:\n",
    "    rendite = np.prod(match_day[bet+\"_Team\"][match_day.pred>pred_min])\n",
    "rendite\n",
    "\n",
    "match_day[match_day.Target==(match_day.pred>0.5)][match_day.Target].BW_Team"
   ]
  },
  {
   "cell_type": "code",
   "execution_count": null,
   "metadata": {},
   "outputs": [],
   "source": [
    "bet = 'BW'\n",
    "pred_min = 0.6\n",
    "odd_min = 2.1\n",
    "def evaluate_my_bets(bet,pred_min,odd_min,results,method = 'single'):\n",
    "    pred_bet = results[bet+\"_Team\"]/((results[bet+\"_Team\"]+results[bet+\"_Opponent\"]+results[bet+\"_Draw\"]))\n",
    "\n",
    "    kandidaten = results[results.pred>pred_bet][results.pred>pred_min][results[bet+\"_Team\"]>odd_min]\n",
    "\n",
    "    kandidaten = kandidaten[[\"Target\",\"FTG_Team\",\"FTG_Opponent\",bet+\"_Team\",\"pred\"]].join(df[\"Div\"])\n",
    "\n",
    "    \n",
    "    if kandidaten.shape[0]>0:\n",
    "        if method == 'single':\n",
    "            rendite = sum(kandidaten[df.Target][bet+\"_Team\"])/kandidaten.shape[0]\n",
    "        elif method == 'kombi':\n",
    "            bet_on = (match_day.pred>pred_min)&((match_day[bet+\"_Team\"]>odd_min))\n",
    "            bets = match_day.Target[bet_on]\n",
    "            if np.prod(bets) == 1:\n",
    "                rendite = np.prod(match_day[bet+\"_Team\"][bet_on])\n",
    "            else: \n",
    "                rendite = 0\n",
    "    else:\n",
    "        rendite = 0\n",
    "    # print(\"getippte Spiele\",kandidaten.shape[0])\n",
    "    # print(\"Richtige Spiele:\",sum(kandidaten.Target))\n",
    "    # print(\"Rendite:\",rendite)\n",
    "    kandidaten\n",
    "    return rendite\n",
    "\n",
    "evaluate_my_bets(bet='IW',pred_min=0.7,odd_min=1,results = match_day,method = 'kombi')"
   ]
  },
  {
   "cell_type": "code",
   "execution_count": null,
   "metadata": {},
   "outputs": [],
   "source": [
    "umsatz  =[]\n",
    "for p in range(50,100):\n",
    "    p = p/100\n",
    "    umsatz += [evaluate_my_bets(bet='IW',pred_min=p,odd_min=2,results = results[results.year==2019])]\n",
    "\n",
    "\n",
    "max(umsatz)\n"
   ]
  }
 ],
 "metadata": {
  "language_info": {
   "name": "python"
  },
  "orig_nbformat": 4
 },
 "nbformat": 4,
 "nbformat_minor": 2
}
